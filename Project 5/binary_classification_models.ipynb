{
 "cells": [
  {
   "cell_type": "markdown",
   "metadata": {},
   "source": [
    "# Binary Classification Models"
   ]
  },
  {
   "cell_type": "markdown",
   "metadata": {},
   "source": [
    "## Objectives\n",
    "\n",
    "1. **Build a Binary Classification Model with Linear Decision Boundary:**\n",
    "   - Import necessary libraries.\n",
    "   - Import the dataset from UCIML repository, view it, and check its shape and for missing values.\n",
    "   - Define functions for splitting the dataset and standardizing it using Scikit-Learn.\n",
    "   - Split and standardize the dataset.\n",
    "   - Train linear and non-linear/polynomial logistic regression models using Scikit-Learn.\n",
    "   - Evaluate each model on training, cross-validation, and testing datasets.\n",
    "   - Determine the optimal model, which was linear logistic regression.\n",
    "   - Build a custom model based on the resulting optimal model.\n",
    "   - Train and evaluate the custom model and compare results with the Scikit-Learn model.\n",
    "\n",
    "2. **Build a Binary Classification Model with Non-Linear Decision Boundary:**\n",
    "   - Get the dataset from the same source as before, view it, and check its shape and missing values.\n",
    "   - Split and standardize the dataset.\n",
    "   - Train and evaulate linear and non-linear/polynomial logistic regression models using Scikit-Learn.\n",
    "   - Determine the optimal model, which was a polynomial degree **3** logistic regression model.\n",
    "   - Based on the resulting optimal model, build a custom model.\n",
    "   - Train and evaluate the custom model and compare results with the Scikit-Learn model.\n"
   ]
  },
  {
   "cell_type": "markdown",
   "metadata": {},
   "source": [
    "## 1. Binary Classification Model with Linear Decision Boundary"
   ]
  },
  {
   "cell_type": "code",
   "execution_count": 1,
   "metadata": {},
   "outputs": [],
   "source": [
    "# Import necessary libraries\n",
    "import numpy as np\n",
    "import plotly.express as px"
   ]
  },
  {
   "cell_type": "markdown",
   "metadata": {},
   "source": [
    "##### This project uses data from the [`UCI Machine Learning Repository`](https://archive.ics.uci.edu/dataset/94/spambase). The dataset is licensed under a [`Creative Commons Attribution 4.0 International (CC BY 4.0) license`](https://creativecommons.org/licenses/by/4.0/legalcode). The features (X) and target (y) variables were converted into numpy arrays, for building a machine learning model."
   ]
  },
  {
   "cell_type": "code",
   "execution_count": 3,
   "metadata": {},
   "outputs": [],
   "source": [
    "from ucimlrepo import fetch_ucirepo\n",
    "\n",
    "# fetch dataset\n",
    "spambase = fetch_ucirepo(id=94)\n",
    "\n",
    "# data (as pandas dataframes)\n",
    "X = spambase.data.features\n",
    "y = spambase.data.targets"
   ]
  },
  {
   "cell_type": "code",
   "execution_count": 4,
   "metadata": {},
   "outputs": [
    {
     "data": {
      "text/html": [
       "<div>\n",
       "<style scoped>\n",
       "    .dataframe tbody tr th:only-of-type {\n",
       "        vertical-align: middle;\n",
       "    }\n",
       "\n",
       "    .dataframe tbody tr th {\n",
       "        vertical-align: top;\n",
       "    }\n",
       "\n",
       "    .dataframe thead th {\n",
       "        text-align: right;\n",
       "    }\n",
       "</style>\n",
       "<table border=\"1\" class=\"dataframe\">\n",
       "  <thead>\n",
       "    <tr style=\"text-align: right;\">\n",
       "      <th></th>\n",
       "      <th>word_freq_make</th>\n",
       "      <th>word_freq_address</th>\n",
       "      <th>word_freq_all</th>\n",
       "      <th>word_freq_3d</th>\n",
       "      <th>word_freq_our</th>\n",
       "      <th>word_freq_over</th>\n",
       "      <th>word_freq_remove</th>\n",
       "      <th>word_freq_internet</th>\n",
       "      <th>word_freq_order</th>\n",
       "      <th>word_freq_mail</th>\n",
       "      <th>...</th>\n",
       "      <th>word_freq_conference</th>\n",
       "      <th>char_freq_;</th>\n",
       "      <th>char_freq_(</th>\n",
       "      <th>char_freq_[</th>\n",
       "      <th>char_freq_!</th>\n",
       "      <th>char_freq_$</th>\n",
       "      <th>char_freq_#</th>\n",
       "      <th>capital_run_length_average</th>\n",
       "      <th>capital_run_length_longest</th>\n",
       "      <th>capital_run_length_total</th>\n",
       "    </tr>\n",
       "  </thead>\n",
       "  <tbody>\n",
       "    <tr>\n",
       "      <th>0</th>\n",
       "      <td>0.00</td>\n",
       "      <td>0.64</td>\n",
       "      <td>0.64</td>\n",
       "      <td>0.0</td>\n",
       "      <td>0.32</td>\n",
       "      <td>0.00</td>\n",
       "      <td>0.00</td>\n",
       "      <td>0.00</td>\n",
       "      <td>0.00</td>\n",
       "      <td>0.00</td>\n",
       "      <td>...</td>\n",
       "      <td>0.0</td>\n",
       "      <td>0.00</td>\n",
       "      <td>0.000</td>\n",
       "      <td>0.0</td>\n",
       "      <td>0.778</td>\n",
       "      <td>0.000</td>\n",
       "      <td>0.000</td>\n",
       "      <td>3.756</td>\n",
       "      <td>61</td>\n",
       "      <td>278</td>\n",
       "    </tr>\n",
       "    <tr>\n",
       "      <th>1</th>\n",
       "      <td>0.21</td>\n",
       "      <td>0.28</td>\n",
       "      <td>0.50</td>\n",
       "      <td>0.0</td>\n",
       "      <td>0.14</td>\n",
       "      <td>0.28</td>\n",
       "      <td>0.21</td>\n",
       "      <td>0.07</td>\n",
       "      <td>0.00</td>\n",
       "      <td>0.94</td>\n",
       "      <td>...</td>\n",
       "      <td>0.0</td>\n",
       "      <td>0.00</td>\n",
       "      <td>0.132</td>\n",
       "      <td>0.0</td>\n",
       "      <td>0.372</td>\n",
       "      <td>0.180</td>\n",
       "      <td>0.048</td>\n",
       "      <td>5.114</td>\n",
       "      <td>101</td>\n",
       "      <td>1028</td>\n",
       "    </tr>\n",
       "    <tr>\n",
       "      <th>2</th>\n",
       "      <td>0.06</td>\n",
       "      <td>0.00</td>\n",
       "      <td>0.71</td>\n",
       "      <td>0.0</td>\n",
       "      <td>1.23</td>\n",
       "      <td>0.19</td>\n",
       "      <td>0.19</td>\n",
       "      <td>0.12</td>\n",
       "      <td>0.64</td>\n",
       "      <td>0.25</td>\n",
       "      <td>...</td>\n",
       "      <td>0.0</td>\n",
       "      <td>0.01</td>\n",
       "      <td>0.143</td>\n",
       "      <td>0.0</td>\n",
       "      <td>0.276</td>\n",
       "      <td>0.184</td>\n",
       "      <td>0.010</td>\n",
       "      <td>9.821</td>\n",
       "      <td>485</td>\n",
       "      <td>2259</td>\n",
       "    </tr>\n",
       "    <tr>\n",
       "      <th>3</th>\n",
       "      <td>0.00</td>\n",
       "      <td>0.00</td>\n",
       "      <td>0.00</td>\n",
       "      <td>0.0</td>\n",
       "      <td>0.63</td>\n",
       "      <td>0.00</td>\n",
       "      <td>0.31</td>\n",
       "      <td>0.63</td>\n",
       "      <td>0.31</td>\n",
       "      <td>0.63</td>\n",
       "      <td>...</td>\n",
       "      <td>0.0</td>\n",
       "      <td>0.00</td>\n",
       "      <td>0.137</td>\n",
       "      <td>0.0</td>\n",
       "      <td>0.137</td>\n",
       "      <td>0.000</td>\n",
       "      <td>0.000</td>\n",
       "      <td>3.537</td>\n",
       "      <td>40</td>\n",
       "      <td>191</td>\n",
       "    </tr>\n",
       "    <tr>\n",
       "      <th>4</th>\n",
       "      <td>0.00</td>\n",
       "      <td>0.00</td>\n",
       "      <td>0.00</td>\n",
       "      <td>0.0</td>\n",
       "      <td>0.63</td>\n",
       "      <td>0.00</td>\n",
       "      <td>0.31</td>\n",
       "      <td>0.63</td>\n",
       "      <td>0.31</td>\n",
       "      <td>0.63</td>\n",
       "      <td>...</td>\n",
       "      <td>0.0</td>\n",
       "      <td>0.00</td>\n",
       "      <td>0.135</td>\n",
       "      <td>0.0</td>\n",
       "      <td>0.135</td>\n",
       "      <td>0.000</td>\n",
       "      <td>0.000</td>\n",
       "      <td>3.537</td>\n",
       "      <td>40</td>\n",
       "      <td>191</td>\n",
       "    </tr>\n",
       "    <tr>\n",
       "      <th>5</th>\n",
       "      <td>0.00</td>\n",
       "      <td>0.00</td>\n",
       "      <td>0.00</td>\n",
       "      <td>0.0</td>\n",
       "      <td>1.85</td>\n",
       "      <td>0.00</td>\n",
       "      <td>0.00</td>\n",
       "      <td>1.85</td>\n",
       "      <td>0.00</td>\n",
       "      <td>0.00</td>\n",
       "      <td>...</td>\n",
       "      <td>0.0</td>\n",
       "      <td>0.00</td>\n",
       "      <td>0.223</td>\n",
       "      <td>0.0</td>\n",
       "      <td>0.000</td>\n",
       "      <td>0.000</td>\n",
       "      <td>0.000</td>\n",
       "      <td>3.000</td>\n",
       "      <td>15</td>\n",
       "      <td>54</td>\n",
       "    </tr>\n",
       "    <tr>\n",
       "      <th>6</th>\n",
       "      <td>0.00</td>\n",
       "      <td>0.00</td>\n",
       "      <td>0.00</td>\n",
       "      <td>0.0</td>\n",
       "      <td>1.92</td>\n",
       "      <td>0.00</td>\n",
       "      <td>0.00</td>\n",
       "      <td>0.00</td>\n",
       "      <td>0.00</td>\n",
       "      <td>0.64</td>\n",
       "      <td>...</td>\n",
       "      <td>0.0</td>\n",
       "      <td>0.00</td>\n",
       "      <td>0.054</td>\n",
       "      <td>0.0</td>\n",
       "      <td>0.164</td>\n",
       "      <td>0.054</td>\n",
       "      <td>0.000</td>\n",
       "      <td>1.671</td>\n",
       "      <td>4</td>\n",
       "      <td>112</td>\n",
       "    </tr>\n",
       "    <tr>\n",
       "      <th>7</th>\n",
       "      <td>0.00</td>\n",
       "      <td>0.00</td>\n",
       "      <td>0.00</td>\n",
       "      <td>0.0</td>\n",
       "      <td>1.88</td>\n",
       "      <td>0.00</td>\n",
       "      <td>0.00</td>\n",
       "      <td>1.88</td>\n",
       "      <td>0.00</td>\n",
       "      <td>0.00</td>\n",
       "      <td>...</td>\n",
       "      <td>0.0</td>\n",
       "      <td>0.00</td>\n",
       "      <td>0.206</td>\n",
       "      <td>0.0</td>\n",
       "      <td>0.000</td>\n",
       "      <td>0.000</td>\n",
       "      <td>0.000</td>\n",
       "      <td>2.450</td>\n",
       "      <td>11</td>\n",
       "      <td>49</td>\n",
       "    </tr>\n",
       "    <tr>\n",
       "      <th>8</th>\n",
       "      <td>0.15</td>\n",
       "      <td>0.00</td>\n",
       "      <td>0.46</td>\n",
       "      <td>0.0</td>\n",
       "      <td>0.61</td>\n",
       "      <td>0.00</td>\n",
       "      <td>0.30</td>\n",
       "      <td>0.00</td>\n",
       "      <td>0.92</td>\n",
       "      <td>0.76</td>\n",
       "      <td>...</td>\n",
       "      <td>0.0</td>\n",
       "      <td>0.00</td>\n",
       "      <td>0.271</td>\n",
       "      <td>0.0</td>\n",
       "      <td>0.181</td>\n",
       "      <td>0.203</td>\n",
       "      <td>0.022</td>\n",
       "      <td>9.744</td>\n",
       "      <td>445</td>\n",
       "      <td>1257</td>\n",
       "    </tr>\n",
       "    <tr>\n",
       "      <th>9</th>\n",
       "      <td>0.06</td>\n",
       "      <td>0.12</td>\n",
       "      <td>0.77</td>\n",
       "      <td>0.0</td>\n",
       "      <td>0.19</td>\n",
       "      <td>0.32</td>\n",
       "      <td>0.38</td>\n",
       "      <td>0.00</td>\n",
       "      <td>0.06</td>\n",
       "      <td>0.00</td>\n",
       "      <td>...</td>\n",
       "      <td>0.0</td>\n",
       "      <td>0.04</td>\n",
       "      <td>0.030</td>\n",
       "      <td>0.0</td>\n",
       "      <td>0.244</td>\n",
       "      <td>0.081</td>\n",
       "      <td>0.000</td>\n",
       "      <td>1.729</td>\n",
       "      <td>43</td>\n",
       "      <td>749</td>\n",
       "    </tr>\n",
       "  </tbody>\n",
       "</table>\n",
       "<p>10 rows × 57 columns</p>\n",
       "</div>"
      ],
      "text/plain": [
       "   word_freq_make  word_freq_address  word_freq_all  word_freq_3d  \\\n",
       "0            0.00               0.64           0.64           0.0   \n",
       "1            0.21               0.28           0.50           0.0   \n",
       "2            0.06               0.00           0.71           0.0   \n",
       "3            0.00               0.00           0.00           0.0   \n",
       "4            0.00               0.00           0.00           0.0   \n",
       "5            0.00               0.00           0.00           0.0   \n",
       "6            0.00               0.00           0.00           0.0   \n",
       "7            0.00               0.00           0.00           0.0   \n",
       "8            0.15               0.00           0.46           0.0   \n",
       "9            0.06               0.12           0.77           0.0   \n",
       "\n",
       "   word_freq_our  word_freq_over  word_freq_remove  word_freq_internet  \\\n",
       "0           0.32            0.00              0.00                0.00   \n",
       "1           0.14            0.28              0.21                0.07   \n",
       "2           1.23            0.19              0.19                0.12   \n",
       "3           0.63            0.00              0.31                0.63   \n",
       "4           0.63            0.00              0.31                0.63   \n",
       "5           1.85            0.00              0.00                1.85   \n",
       "6           1.92            0.00              0.00                0.00   \n",
       "7           1.88            0.00              0.00                1.88   \n",
       "8           0.61            0.00              0.30                0.00   \n",
       "9           0.19            0.32              0.38                0.00   \n",
       "\n",
       "   word_freq_order  word_freq_mail  ...  word_freq_conference  char_freq_;  \\\n",
       "0             0.00            0.00  ...                   0.0         0.00   \n",
       "1             0.00            0.94  ...                   0.0         0.00   \n",
       "2             0.64            0.25  ...                   0.0         0.01   \n",
       "3             0.31            0.63  ...                   0.0         0.00   \n",
       "4             0.31            0.63  ...                   0.0         0.00   \n",
       "5             0.00            0.00  ...                   0.0         0.00   \n",
       "6             0.00            0.64  ...                   0.0         0.00   \n",
       "7             0.00            0.00  ...                   0.0         0.00   \n",
       "8             0.92            0.76  ...                   0.0         0.00   \n",
       "9             0.06            0.00  ...                   0.0         0.04   \n",
       "\n",
       "   char_freq_(  char_freq_[  char_freq_!  char_freq_$  char_freq_#  \\\n",
       "0        0.000          0.0        0.778        0.000        0.000   \n",
       "1        0.132          0.0        0.372        0.180        0.048   \n",
       "2        0.143          0.0        0.276        0.184        0.010   \n",
       "3        0.137          0.0        0.137        0.000        0.000   \n",
       "4        0.135          0.0        0.135        0.000        0.000   \n",
       "5        0.223          0.0        0.000        0.000        0.000   \n",
       "6        0.054          0.0        0.164        0.054        0.000   \n",
       "7        0.206          0.0        0.000        0.000        0.000   \n",
       "8        0.271          0.0        0.181        0.203        0.022   \n",
       "9        0.030          0.0        0.244        0.081        0.000   \n",
       "\n",
       "   capital_run_length_average  capital_run_length_longest  \\\n",
       "0                       3.756                          61   \n",
       "1                       5.114                         101   \n",
       "2                       9.821                         485   \n",
       "3                       3.537                          40   \n",
       "4                       3.537                          40   \n",
       "5                       3.000                          15   \n",
       "6                       1.671                           4   \n",
       "7                       2.450                          11   \n",
       "8                       9.744                         445   \n",
       "9                       1.729                          43   \n",
       "\n",
       "   capital_run_length_total  \n",
       "0                       278  \n",
       "1                      1028  \n",
       "2                      2259  \n",
       "3                       191  \n",
       "4                       191  \n",
       "5                        54  \n",
       "6                       112  \n",
       "7                        49  \n",
       "8                      1257  \n",
       "9                       749  \n",
       "\n",
       "[10 rows x 57 columns]"
      ]
     },
     "execution_count": 4,
     "metadata": {},
     "output_type": "execute_result"
    }
   ],
   "source": [
    "# View first 10 rows of features data\n",
    "X.head(10)"
   ]
  },
  {
   "cell_type": "code",
   "execution_count": 5,
   "metadata": {},
   "outputs": [
    {
     "data": {
      "text/html": [
       "<div>\n",
       "<style scoped>\n",
       "    .dataframe tbody tr th:only-of-type {\n",
       "        vertical-align: middle;\n",
       "    }\n",
       "\n",
       "    .dataframe tbody tr th {\n",
       "        vertical-align: top;\n",
       "    }\n",
       "\n",
       "    .dataframe thead th {\n",
       "        text-align: right;\n",
       "    }\n",
       "</style>\n",
       "<table border=\"1\" class=\"dataframe\">\n",
       "  <thead>\n",
       "    <tr style=\"text-align: right;\">\n",
       "      <th></th>\n",
       "      <th>Class</th>\n",
       "    </tr>\n",
       "  </thead>\n",
       "  <tbody>\n",
       "    <tr>\n",
       "      <th>0</th>\n",
       "      <td>1</td>\n",
       "    </tr>\n",
       "    <tr>\n",
       "      <th>1</th>\n",
       "      <td>1</td>\n",
       "    </tr>\n",
       "    <tr>\n",
       "      <th>2</th>\n",
       "      <td>1</td>\n",
       "    </tr>\n",
       "    <tr>\n",
       "      <th>3</th>\n",
       "      <td>1</td>\n",
       "    </tr>\n",
       "    <tr>\n",
       "      <th>4</th>\n",
       "      <td>1</td>\n",
       "    </tr>\n",
       "    <tr>\n",
       "      <th>...</th>\n",
       "      <td>...</td>\n",
       "    </tr>\n",
       "    <tr>\n",
       "      <th>4596</th>\n",
       "      <td>0</td>\n",
       "    </tr>\n",
       "    <tr>\n",
       "      <th>4597</th>\n",
       "      <td>0</td>\n",
       "    </tr>\n",
       "    <tr>\n",
       "      <th>4598</th>\n",
       "      <td>0</td>\n",
       "    </tr>\n",
       "    <tr>\n",
       "      <th>4599</th>\n",
       "      <td>0</td>\n",
       "    </tr>\n",
       "    <tr>\n",
       "      <th>4600</th>\n",
       "      <td>0</td>\n",
       "    </tr>\n",
       "  </tbody>\n",
       "</table>\n",
       "<p>4601 rows × 1 columns</p>\n",
       "</div>"
      ],
      "text/plain": [
       "      Class\n",
       "0         1\n",
       "1         1\n",
       "2         1\n",
       "3         1\n",
       "4         1\n",
       "...     ...\n",
       "4596      0\n",
       "4597      0\n",
       "4598      0\n",
       "4599      0\n",
       "4600      0\n",
       "\n",
       "[4601 rows x 1 columns]"
      ]
     },
     "execution_count": 5,
     "metadata": {},
     "output_type": "execute_result"
    }
   ],
   "source": [
    "# View target data\n",
    "y"
   ]
  },
  {
   "cell_type": "code",
   "execution_count": 6,
   "metadata": {},
   "outputs": [
    {
     "name": "stdout",
     "output_type": "stream",
     "text": [
      "Shape of X = (4601, 57)\n",
      "Shape of y = (4601, 1)\n",
      "\n",
      "Missing values in X: \n",
      "[False False False False False False False False False False False False\n",
      " False False False False False False False False False False False False\n",
      " False False False False False False False False False False False False\n",
      " False False False False False False False False False False False False\n",
      " False False False False False False False False False]\n",
      "\n",
      "Missing values in y: \n",
      "[False]\n"
     ]
    }
   ],
   "source": [
    "# Check the shape of X and y\n",
    "print(f\"Shape of X = {X.shape}\")\n",
    "print(f\"Shape of y = {y.shape}\")\n",
    "\n",
    "# Check for any missing values for X and y\n",
    "print(f\"\\nMissing values in X: \\n{X.isna().any().values}\")\n",
    "print(f\"\\nMissing values in y: \\n{y.isna().any().values}\")"
   ]
  },
  {
   "cell_type": "markdown",
   "metadata": {},
   "source": [
    "We have a cleaned dataset with **4,601** training examples, **57** feature variables, and **1** binary target variable. Our goal is to build a binary classification model with a linear decision boundary. To ensure the dataset is separable by a linear boundary, we will first use scikit-learn to build and evaluate both linear and non-linear/polynomial binary classification models. After identifying the optimal scikit-learn model, we will develop a custom model based on these findings and compare its results with the optimal scikit-learn model. This approach saves time by efficiently determining the best model type before building our custom models."
   ]
  },
  {
   "cell_type": "code",
   "execution_count": 7,
   "metadata": {},
   "outputs": [],
   "source": [
    "from sklearn.model_selection import train_test_split\n",
    "from sklearn.preprocessing import StandardScaler\n",
    "\n",
    "\n",
    "def split_dataset(X, y):\n",
    "    # Splitting the data into training (60%), cross-validation (20%), and testing (20%) sets\n",
    "    X_train, X_temp, y_train, y_temp = train_test_split(X, y, test_size=0.4, random_state=42, stratify=y)\n",
    "    X_val, X_test, y_val, y_test = train_test_split(X_temp, y_temp, test_size=0.5, random_state=42, stratify=y_temp)\n",
    "\n",
    "    return X_train, y_train, X_val, y_val, X_test, y_test\n",
    "\n",
    "\n",
    "def standardize_dataset(X_train, X_val, X_test):\n",
    "    # Standardizing the datasets\n",
    "    scaler = StandardScaler()\n",
    "\n",
    "    # Fitting the scaler on the training data and transforming training, validation, and testing sets\n",
    "    X_train_scaled = scaler.fit_transform(X_train)\n",
    "    X_val_scaled = scaler.transform(X_val)\n",
    "    X_test_scaled = scaler.transform(X_test)\n",
    "\n",
    "    return scaler, X_train_scaled, X_val_scaled, X_test_scaled"
   ]
  },
  {
   "cell_type": "code",
   "execution_count": 8,
   "metadata": {},
   "outputs": [
    {
     "name": "stdout",
     "output_type": "stream",
     "text": [
      "Training set: (2760, 57), (2760,)\n",
      "Validation set: (920, 57), (920,)\n",
      "Test set: (921, 57), (921,)\n"
     ]
    }
   ],
   "source": [
    "# Convert the features (X) and target (y) variables into numpy arrays\n",
    "X = X.to_numpy()\n",
    "y = y[\"Class\"].to_numpy()\n",
    "\n",
    "# Splitting the dataset into training, validation, and test sets\n",
    "X_train, y_train, X_val, y_val, X_test, y_test = split_dataset(X, y)\n",
    "\n",
    "# Standardizing the feature datasets (training, validation, and test sets) to have zero mean and unit variance\n",
    "scaler, X_train_scaled, X_val_scaled, X_test_scaled = standardize_dataset(X_train, X_val, X_test)\n",
    "\n",
    "# Printing the shapes of the resulting datasets\n",
    "print(f\"Training set: {X_train_scaled.shape}, {y_train.shape}\")\n",
    "print(f\"Validation set: {X_val_scaled.shape}, {y_val.shape}\")\n",
    "print(f\"Test set: {X_test_scaled.shape}, {y_test.shape}\")"
   ]
  },
  {
   "cell_type": "code",
   "execution_count": 9,
   "metadata": {},
   "outputs": [
    {
     "name": "stdout",
     "output_type": "stream",
     "text": [
      "Linear Logistic Regression:\n",
      "Training set - Accuracy: 0.9283, Precision: 0.9246, Recall: 0.8906, F1-score: 0.9073\n",
      "Validation set - Accuracy: 0.9250, Precision: 0.9322, Recall: 0.8729, F1-score: 0.9016\n",
      "Test set - Accuracy: 0.9175, Precision: 0.9135, Recall: 0.8733, F1-score: 0.8930\n",
      "\n",
      "Polynomial Degree 2 Logistic Regression:\n",
      "Training set - Accuracy: 0.9891, Precision: 0.9926, Recall: 0.9798, F1-score: 0.9861\n",
      "Validation set - Accuracy: 0.9185, Precision: 0.8997, Recall: 0.8923, F1-score: 0.8960\n",
      "Test set - Accuracy: 0.9153, Precision: 0.9060, Recall: 0.8760, F1-score: 0.8908\n",
      "\n",
      "Polynomial Degree 3 Logistic Regression:\n",
      "Training set - Accuracy: 0.9949, Precision: 0.9991, Recall: 0.9881, F1-score: 0.9935\n",
      "Validation set - Accuracy: 0.9163, Precision: 0.8969, Recall: 0.8895, F1-score: 0.8932\n",
      "Test set - Accuracy: 0.9175, Precision: 0.8932, Recall: 0.8981, F1-score: 0.8956\n"
     ]
    }
   ],
   "source": [
    "from sklearn.linear_model import LogisticRegression\n",
    "from sklearn.preprocessing import PolynomialFeatures\n",
    "from sklearn.pipeline import make_pipeline\n",
    "from sklearn.metrics import accuracy_score, precision_score, recall_score, f1_score\n",
    "\n",
    "\n",
    "def train_eval_logistic_regression(X_train, y_train, X_val, y_val, X_test, y_test, degree=1):\n",
    "    # Initialize logistic regression model (linear/polynomial)\n",
    "    model = make_pipeline(\n",
    "        PolynomialFeatures(degree=degree),\n",
    "        LogisticRegression(random_state=42, max_iter=1000)\n",
    "    )\n",
    "    \n",
    "    # Train the model\n",
    "    model.fit(X_train, y_train)\n",
    "    \n",
    "    # Evaluate on training set\n",
    "    train_acc, train_prec, train_rec, train_f1 = evaluate_model(model, X_train, y_train)\n",
    "    \n",
    "    # Evaluate on validation set\n",
    "    val_acc, val_prec, val_rec, val_f1 = evaluate_model(model, X_val, y_val)\n",
    "\n",
    "    # Evaluate on testing set\n",
    "    test_acc, test_prec, test_rec, test_f1 = evaluate_model(model, X_test, y_test)\n",
    "\n",
    "    print(\"Linear Logistic Regression:\") if degree == 1 else print(f\"\\nPolynomial Degree {degree} Logistic Regression:\")\n",
    "    \n",
    "    print(f\"Training set - Accuracy: {train_acc:.4f}, Precision: {train_prec:.4f}, Recall: {train_rec:.4f}, \"\n",
    "            f\"F1-score: {train_f1:.4f}\")\n",
    "\n",
    "    print(f\"Validation set - Accuracy: {val_acc:.4f}, Precision: {val_prec:.4f}, Recall: {val_rec:.4f}, \"\n",
    "            f\"F1-score: {val_f1:.4f}\")\n",
    "    \n",
    "    print(f\"Test set - Accuracy: {test_acc:.4f}, Precision: {test_prec:.4f}, Recall: {test_rec:.4f}, \"\n",
    "            f\"F1-score: {test_f1:.4f}\")\n",
    "    \n",
    "    return model\n",
    "\n",
    "\n",
    "def evaluate_model(model, X, y):\n",
    "    # Predict the target values using the provided model and features\n",
    "    y_pred = model.predict(X)\n",
    "    \n",
    "    # Calculate the accuracy of the model\n",
    "    accuracy = accuracy_score(y, y_pred)\n",
    "    # Calculate the precision of the model\n",
    "    precision = precision_score(y, y_pred)\n",
    "    # Calculate the recall of the model\n",
    "    recall = recall_score(y, y_pred)\n",
    "    # Calculate the F1 score of the model\n",
    "    f1 = f1_score(y, y_pred)\n",
    "    \n",
    "    return accuracy, precision, recall, f1\n",
    "\n",
    "\n",
    "# Train and evaluate linear logistic regression model\n",
    "linear_lr_model = train_eval_logistic_regression(X_train_scaled, y_train, X_val_scaled, y_val, X_test_scaled, y_test)\n",
    "\n",
    "# Train and evaluate polynomial (degree 2) logistic regression model\n",
    "poly2_lr_model = train_eval_logistic_regression(X_train_scaled, y_train, X_val_scaled, y_val, X_test_scaled, y_test,\n",
    "                                                degree=2)\n",
    "\n",
    "# Train and evaluate polynomial (degree 3) logistic regression model\n",
    "poly3_lr_model = train_eval_logistic_regression(X_train_scaled, y_train, X_val_scaled, y_val, X_test_scaled, y_test,\n",
    "                                                degree=3)"
   ]
  },
  {
   "cell_type": "markdown",
   "metadata": {},
   "source": [
    "Based on the comprehensive evaluation across training, validation, and test sets, the performance of the linear logistic regression model consistently demonstrates robust generalization ability. It achieves competitive accuracy (`92.50%` on validation, `91.75%` on test) and balanced precision (around `91%`) and recall (around `87%`) metrics, resulting in an F1-score of approximately `89%` on the test set. In contrast, while polynomial models with degrees 2 and 3 achieve remarkably high training accuracies (`98.91%` and `99.49%` respectively), they show a notable drop in performance on the validation and test sets, suggesting potential overfitting to the training data.\n",
    "\n",
    "Therefore, despite the polynomial model's impressive training performance, the linear logistic regression model emerges as the optimal choice due to its consistent and reliable performance across all evaluation metrics and datasets. Its ability to maintain competitive accuracy and balanced precision-recall trade-off underscores its suitability and capacity to generalize well to unseen data. Thus, for this classification task, the linear logistic regression model stands out as the most effective choice among the evaluated models. Now, we will build our custom logistic regression model having a linear decision boundary and compare the results with the optimal model."
   ]
  },
  {
   "cell_type": "markdown",
   "metadata": {},
   "source": [
    "The linear/polynomial logistic regression model can be represented as:\n",
    "\n",
    "$$\n",
    "\\begin{equation}\n",
    "\\hat{\\mathbf{y}} = \\sigma(\\mathbf{X} \\cdot \\mathbf{w} + b)\n",
    "\\end{equation}\n",
    "$$\n",
    "\n",
    "where:\n",
    "- $\\hat{\\mathbf{y}}$ represents the predicted probabilities for each instance,\n",
    "- $\\sigma(z) = \\frac{1}{1 + e^{-z}}$ is the sigmoid function that squashes the output into the range $[0, 1]$,\n",
    "- $\\mathbf{X}$ represents the matrix of input features,\n",
    "- $\\mathbf{w}$ represents the column vector of weights (coefficients),\n",
    "- $b$ represents the bias term.\n",
    "\n",
    "To train the logistic regression model, we use the log loss (cross-entropy) as the loss function:\n",
    "\n",
    "$$\n",
    "\\begin{equation}\n",
    "\\text{Log Loss} = -\\frac{1}{m} \\sum_{i=1}^{m} \\left[y_i \\log(\\hat{y}_i) + (1 - y_i) \\log(1 - \\hat{y}_i)\\right] \\tag{2}\n",
    "\\end{equation}\n",
    "$$\n",
    "\n",
    "where:\n",
    "- $m$ is the number of data points,\n",
    "- $y_i$ is the actual binary label (0 or 1) for the $i$-th data point,\n",
    "- $\\hat{y}_i$ is the predicted probability that the $i$-th instance belongs to class 1.\n",
    "\n",
    "To update the parameters $\\mathbf{w}$ and $b$, we use gradient descent:\n",
    "\n",
    "$$\n",
    "\\begin{equation}\n",
    "w_{j, \\text{new}} = w_{j, \\text{old}} - \\alpha \\times \\frac{\\partial \\text{Log Loss}}{\\partial w_j} \\tag{3}\n",
    "\\end{equation}\n",
    "$$\n",
    "\n",
    "$$\n",
    "\\begin{equation}\n",
    "b_{\\text{new}} = b_{\\text{old}} - \\alpha \\times \\frac{\\partial \\text{Log Loss}}{\\partial b} \\tag{4}\n",
    "\\end{equation}\n",
    "$$\n",
    "\n",
    "where:\n",
    "- $j = 1, 2, 3, \\ldots, n$\n",
    "- $w_{j, \\text{new}}$ and $w_{j, \\text{old}}$ are the updated and current weights for the $j$-th feature, respectively,\n",
    "- $b_{\\text{new}}$ and $b_{\\text{old}}$ are the updated and current $y$-intercepts, respectively,\n",
    "- $\\alpha$ is the learning rate,\n",
    "- $\\frac{\\partial \\text{Log Loss}}{\\partial w_j}$ is the gradient of the Log Loss function with respect to the $j$-th weight,\n",
    "- $\\frac{\\partial \\text{Log Loss}}{\\partial b}$ is the gradient of the Log Loss function with respect to the bias term.\n",
    "\n",
    "The gradients with respect to the weights and bias are computed as follows:\n",
    "\n",
    "$$\n",
    "\\begin{equation}\n",
    "\\frac{\\partial \\text{Log Loss}}{\\partial w_j} = \\frac{1}{m} \\sum_{i=1}^{m} (\\hat{y}_i - y_i) x^j_i \\tag{5}\n",
    "\\end{equation}\n",
    "$$\n",
    "\n",
    "$$\n",
    "\\begin{equation}\n",
    "\\frac{\\partial \\text{Log Loss}}{\\partial b} = \\frac{1}{m} \\sum_{i=1}^{m} (\\hat{y}_i - y_i) \\tag{6}\n",
    "\\end{equation}\n",
    "$$"
   ]
  },
  {
   "cell_type": "code",
   "execution_count": 10,
   "metadata": {},
   "outputs": [],
   "source": [
    "class CustomLogisticRegression:\n",
    "    def __init__(self, learning_rate=0.01, num_iterations=1000):\n",
    "        self.learning_rate = learning_rate\n",
    "        self.num_iterations = num_iterations\n",
    "        self.weights = None\n",
    "        self.bias = None\n",
    "        self.cost_history = []\n",
    "\n",
    "    \n",
    "    def sigmoid(self, z):\n",
    "        # Calculate the sigmoid of z\n",
    "        return 1 / (1 + np.exp(-z))\n",
    "\n",
    "\n",
    "    def initialize_parameters(self, n_features):\n",
    "        # Initialize weights as a zero vector of shape (n_features, 1)\n",
    "        self.weights = np.zeros((n_features, 1))\n",
    "        \n",
    "        # Initialize bias as zero\n",
    "        self.bias = 0    \n",
    "\n",
    "\n",
    "    def compute_cost(self, y_hat, y):\n",
    "        # Get the number of samples\n",
    "        m = y.shape[0]\n",
    "\n",
    "        # Small epsilon value to prevent log(0)\n",
    "        epsilon = 1e-10\n",
    "        \n",
    "        # Compute the cost using logistic regression loss function\n",
    "        cost = - (1 / m) * np.sum(y * np.log(y_hat + epsilon) + (1 - y) * np.log(1 - y_hat + epsilon))\n",
    "        \n",
    "        return cost \n",
    "   \n",
    "\n",
    "    def fit(self, X, y):\n",
    "        m, n = X.shape\n",
    "        self.initialize_parameters(n)\n",
    "\n",
    "        for i in range(self.num_iterations):\n",
    "            # Forward propagation\n",
    "            z = np.dot(X, self.weights) + self.bias\n",
    "            y_hat = self.sigmoid(z)\n",
    "\n",
    "            # Compute cost\n",
    "            cost = self.compute_cost(y_hat, y)\n",
    "\n",
    "            # Print cost every 100 iterations and save cost\n",
    "            if (i + 1) % 100 == 0:\n",
    "                print(f\"Iteration {i + 1}/{self.num_iterations}: Cost {cost}\")\n",
    "                self.cost_history.append((i+1, cost))\n",
    "\n",
    "            # Compute gradients\n",
    "            dw = (1 / m) * np.dot(X.T, (y_hat - y))\n",
    "            db = (1 / m) * np.sum(y_hat - y)\n",
    "\n",
    "            # Update parameters\n",
    "            self.weights -= self.learning_rate * dw\n",
    "            self.bias -= self.learning_rate * db\n",
    "\n",
    "    \n",
    "    def predict(self, X):\n",
    "        # Compute the linear combination of input features and weights plus bias\n",
    "        # Note: X can be polynomial features\n",
    "        z = np.dot(X, self.weights) + self.bias\n",
    "        \n",
    "        # Apply sigmoid function to the linear combination\n",
    "        y_hat = self.sigmoid(z)\n",
    "        \n",
    "        # Convert probabilities to binary predictions (0 or 1)\n",
    "        return (y_hat >= 0.5).astype(int)\n",
    "    \n",
    "\n",
    "    def evaluate_model(self, X, y):\n",
    "        # Predict the target values using the provided features\n",
    "        y_pred = self.predict(X)\n",
    "        \n",
    "        # Calculate the accuracy of the model\n",
    "        accuracy = accuracy_score(y, y_pred)\n",
    "        # Calculate the precision of the model\n",
    "        precision = precision_score(y, y_pred)\n",
    "        # Calculate the recall of the model\n",
    "        recall = recall_score(y, y_pred)\n",
    "        # Calculate the F1 score of the model\n",
    "        f1 = f1_score(y, y_pred)\n",
    "    \n",
    "        return accuracy, precision, recall, f1"
   ]
  },
  {
   "cell_type": "code",
   "execution_count": 11,
   "metadata": {},
   "outputs": [
    {
     "name": "stdout",
     "output_type": "stream",
     "text": [
      "Iteration 100/1000: Cost 0.2045616742480486\n",
      "Iteration 200/1000: Cost 0.20230641267129337\n",
      "Iteration 300/1000: Cost 0.20115133389425785\n",
      "Iteration 400/1000: Cost 0.20041742052833028\n",
      "Iteration 500/1000: Cost 0.19989627399501622\n",
      "Iteration 600/1000: Cost 0.19949915791877024\n",
      "Iteration 700/1000: Cost 0.1991816049423096\n",
      "Iteration 800/1000: Cost 0.19891876204302394\n",
      "Iteration 900/1000: Cost 0.19869555844276626\n",
      "Iteration 1000/1000: Cost 0.19850225483520703\n"
     ]
    }
   ],
   "source": [
    "# Train custom linear logistic regression model\n",
    "custom_linear_lr_model = CustomLogisticRegression(learning_rate=11.3)\n",
    "custom_linear_lr_model.fit(X_train_scaled, y_train.reshape(-1, 1))"
   ]
  },
  {
   "cell_type": "code",
   "execution_count": 12,
   "metadata": {},
   "outputs": [
    {
     "data": {
      "application/vnd.plotly.v1+json": {
       "config": {
        "plotlyServerURL": "https://plot.ly"
       },
       "data": [
        {
         "hovertemplate": "Iteration=%{x}<br>Cost=%{y}<extra></extra>",
         "legendgroup": "",
         "line": {
          "color": "#636efa",
          "dash": "solid"
         },
         "marker": {
          "symbol": "circle"
         },
         "mode": "lines",
         "name": "",
         "orientation": "v",
         "showlegend": false,
         "type": "scatter",
         "x": [
          100,
          200,
          300,
          400,
          500,
          600,
          700,
          800,
          900,
          1000
         ],
         "xaxis": "x",
         "y": [
          0.2045616742480486,
          0.20230641267129337,
          0.20115133389425785,
          0.20041742052833028,
          0.19989627399501622,
          0.19949915791877024,
          0.1991816049423096,
          0.19891876204302394,
          0.19869555844276626,
          0.19850225483520703
         ],
         "yaxis": "y"
        }
       ],
       "layout": {
        "legend": {
         "tracegroupgap": 0
        },
        "template": {
         "data": {
          "bar": [
           {
            "error_x": {
             "color": "#2a3f5f"
            },
            "error_y": {
             "color": "#2a3f5f"
            },
            "marker": {
             "line": {
              "color": "#E5ECF6",
              "width": 0.5
             },
             "pattern": {
              "fillmode": "overlay",
              "size": 10,
              "solidity": 0.2
             }
            },
            "type": "bar"
           }
          ],
          "barpolar": [
           {
            "marker": {
             "line": {
              "color": "#E5ECF6",
              "width": 0.5
             },
             "pattern": {
              "fillmode": "overlay",
              "size": 10,
              "solidity": 0.2
             }
            },
            "type": "barpolar"
           }
          ],
          "carpet": [
           {
            "aaxis": {
             "endlinecolor": "#2a3f5f",
             "gridcolor": "white",
             "linecolor": "white",
             "minorgridcolor": "white",
             "startlinecolor": "#2a3f5f"
            },
            "baxis": {
             "endlinecolor": "#2a3f5f",
             "gridcolor": "white",
             "linecolor": "white",
             "minorgridcolor": "white",
             "startlinecolor": "#2a3f5f"
            },
            "type": "carpet"
           }
          ],
          "choropleth": [
           {
            "colorbar": {
             "outlinewidth": 0,
             "ticks": ""
            },
            "type": "choropleth"
           }
          ],
          "contour": [
           {
            "colorbar": {
             "outlinewidth": 0,
             "ticks": ""
            },
            "colorscale": [
             [
              0,
              "#0d0887"
             ],
             [
              0.1111111111111111,
              "#46039f"
             ],
             [
              0.2222222222222222,
              "#7201a8"
             ],
             [
              0.3333333333333333,
              "#9c179e"
             ],
             [
              0.4444444444444444,
              "#bd3786"
             ],
             [
              0.5555555555555556,
              "#d8576b"
             ],
             [
              0.6666666666666666,
              "#ed7953"
             ],
             [
              0.7777777777777778,
              "#fb9f3a"
             ],
             [
              0.8888888888888888,
              "#fdca26"
             ],
             [
              1,
              "#f0f921"
             ]
            ],
            "type": "contour"
           }
          ],
          "contourcarpet": [
           {
            "colorbar": {
             "outlinewidth": 0,
             "ticks": ""
            },
            "type": "contourcarpet"
           }
          ],
          "heatmap": [
           {
            "colorbar": {
             "outlinewidth": 0,
             "ticks": ""
            },
            "colorscale": [
             [
              0,
              "#0d0887"
             ],
             [
              0.1111111111111111,
              "#46039f"
             ],
             [
              0.2222222222222222,
              "#7201a8"
             ],
             [
              0.3333333333333333,
              "#9c179e"
             ],
             [
              0.4444444444444444,
              "#bd3786"
             ],
             [
              0.5555555555555556,
              "#d8576b"
             ],
             [
              0.6666666666666666,
              "#ed7953"
             ],
             [
              0.7777777777777778,
              "#fb9f3a"
             ],
             [
              0.8888888888888888,
              "#fdca26"
             ],
             [
              1,
              "#f0f921"
             ]
            ],
            "type": "heatmap"
           }
          ],
          "heatmapgl": [
           {
            "colorbar": {
             "outlinewidth": 0,
             "ticks": ""
            },
            "colorscale": [
             [
              0,
              "#0d0887"
             ],
             [
              0.1111111111111111,
              "#46039f"
             ],
             [
              0.2222222222222222,
              "#7201a8"
             ],
             [
              0.3333333333333333,
              "#9c179e"
             ],
             [
              0.4444444444444444,
              "#bd3786"
             ],
             [
              0.5555555555555556,
              "#d8576b"
             ],
             [
              0.6666666666666666,
              "#ed7953"
             ],
             [
              0.7777777777777778,
              "#fb9f3a"
             ],
             [
              0.8888888888888888,
              "#fdca26"
             ],
             [
              1,
              "#f0f921"
             ]
            ],
            "type": "heatmapgl"
           }
          ],
          "histogram": [
           {
            "marker": {
             "pattern": {
              "fillmode": "overlay",
              "size": 10,
              "solidity": 0.2
             }
            },
            "type": "histogram"
           }
          ],
          "histogram2d": [
           {
            "colorbar": {
             "outlinewidth": 0,
             "ticks": ""
            },
            "colorscale": [
             [
              0,
              "#0d0887"
             ],
             [
              0.1111111111111111,
              "#46039f"
             ],
             [
              0.2222222222222222,
              "#7201a8"
             ],
             [
              0.3333333333333333,
              "#9c179e"
             ],
             [
              0.4444444444444444,
              "#bd3786"
             ],
             [
              0.5555555555555556,
              "#d8576b"
             ],
             [
              0.6666666666666666,
              "#ed7953"
             ],
             [
              0.7777777777777778,
              "#fb9f3a"
             ],
             [
              0.8888888888888888,
              "#fdca26"
             ],
             [
              1,
              "#f0f921"
             ]
            ],
            "type": "histogram2d"
           }
          ],
          "histogram2dcontour": [
           {
            "colorbar": {
             "outlinewidth": 0,
             "ticks": ""
            },
            "colorscale": [
             [
              0,
              "#0d0887"
             ],
             [
              0.1111111111111111,
              "#46039f"
             ],
             [
              0.2222222222222222,
              "#7201a8"
             ],
             [
              0.3333333333333333,
              "#9c179e"
             ],
             [
              0.4444444444444444,
              "#bd3786"
             ],
             [
              0.5555555555555556,
              "#d8576b"
             ],
             [
              0.6666666666666666,
              "#ed7953"
             ],
             [
              0.7777777777777778,
              "#fb9f3a"
             ],
             [
              0.8888888888888888,
              "#fdca26"
             ],
             [
              1,
              "#f0f921"
             ]
            ],
            "type": "histogram2dcontour"
           }
          ],
          "mesh3d": [
           {
            "colorbar": {
             "outlinewidth": 0,
             "ticks": ""
            },
            "type": "mesh3d"
           }
          ],
          "parcoords": [
           {
            "line": {
             "colorbar": {
              "outlinewidth": 0,
              "ticks": ""
             }
            },
            "type": "parcoords"
           }
          ],
          "pie": [
           {
            "automargin": true,
            "type": "pie"
           }
          ],
          "scatter": [
           {
            "fillpattern": {
             "fillmode": "overlay",
             "size": 10,
             "solidity": 0.2
            },
            "type": "scatter"
           }
          ],
          "scatter3d": [
           {
            "line": {
             "colorbar": {
              "outlinewidth": 0,
              "ticks": ""
             }
            },
            "marker": {
             "colorbar": {
              "outlinewidth": 0,
              "ticks": ""
             }
            },
            "type": "scatter3d"
           }
          ],
          "scattercarpet": [
           {
            "marker": {
             "colorbar": {
              "outlinewidth": 0,
              "ticks": ""
             }
            },
            "type": "scattercarpet"
           }
          ],
          "scattergeo": [
           {
            "marker": {
             "colorbar": {
              "outlinewidth": 0,
              "ticks": ""
             }
            },
            "type": "scattergeo"
           }
          ],
          "scattergl": [
           {
            "marker": {
             "colorbar": {
              "outlinewidth": 0,
              "ticks": ""
             }
            },
            "type": "scattergl"
           }
          ],
          "scattermapbox": [
           {
            "marker": {
             "colorbar": {
              "outlinewidth": 0,
              "ticks": ""
             }
            },
            "type": "scattermapbox"
           }
          ],
          "scatterpolar": [
           {
            "marker": {
             "colorbar": {
              "outlinewidth": 0,
              "ticks": ""
             }
            },
            "type": "scatterpolar"
           }
          ],
          "scatterpolargl": [
           {
            "marker": {
             "colorbar": {
              "outlinewidth": 0,
              "ticks": ""
             }
            },
            "type": "scatterpolargl"
           }
          ],
          "scatterternary": [
           {
            "marker": {
             "colorbar": {
              "outlinewidth": 0,
              "ticks": ""
             }
            },
            "type": "scatterternary"
           }
          ],
          "surface": [
           {
            "colorbar": {
             "outlinewidth": 0,
             "ticks": ""
            },
            "colorscale": [
             [
              0,
              "#0d0887"
             ],
             [
              0.1111111111111111,
              "#46039f"
             ],
             [
              0.2222222222222222,
              "#7201a8"
             ],
             [
              0.3333333333333333,
              "#9c179e"
             ],
             [
              0.4444444444444444,
              "#bd3786"
             ],
             [
              0.5555555555555556,
              "#d8576b"
             ],
             [
              0.6666666666666666,
              "#ed7953"
             ],
             [
              0.7777777777777778,
              "#fb9f3a"
             ],
             [
              0.8888888888888888,
              "#fdca26"
             ],
             [
              1,
              "#f0f921"
             ]
            ],
            "type": "surface"
           }
          ],
          "table": [
           {
            "cells": {
             "fill": {
              "color": "#EBF0F8"
             },
             "line": {
              "color": "white"
             }
            },
            "header": {
             "fill": {
              "color": "#C8D4E3"
             },
             "line": {
              "color": "white"
             }
            },
            "type": "table"
           }
          ]
         },
         "layout": {
          "annotationdefaults": {
           "arrowcolor": "#2a3f5f",
           "arrowhead": 0,
           "arrowwidth": 1
          },
          "autotypenumbers": "strict",
          "coloraxis": {
           "colorbar": {
            "outlinewidth": 0,
            "ticks": ""
           }
          },
          "colorscale": {
           "diverging": [
            [
             0,
             "#8e0152"
            ],
            [
             0.1,
             "#c51b7d"
            ],
            [
             0.2,
             "#de77ae"
            ],
            [
             0.3,
             "#f1b6da"
            ],
            [
             0.4,
             "#fde0ef"
            ],
            [
             0.5,
             "#f7f7f7"
            ],
            [
             0.6,
             "#e6f5d0"
            ],
            [
             0.7,
             "#b8e186"
            ],
            [
             0.8,
             "#7fbc41"
            ],
            [
             0.9,
             "#4d9221"
            ],
            [
             1,
             "#276419"
            ]
           ],
           "sequential": [
            [
             0,
             "#0d0887"
            ],
            [
             0.1111111111111111,
             "#46039f"
            ],
            [
             0.2222222222222222,
             "#7201a8"
            ],
            [
             0.3333333333333333,
             "#9c179e"
            ],
            [
             0.4444444444444444,
             "#bd3786"
            ],
            [
             0.5555555555555556,
             "#d8576b"
            ],
            [
             0.6666666666666666,
             "#ed7953"
            ],
            [
             0.7777777777777778,
             "#fb9f3a"
            ],
            [
             0.8888888888888888,
             "#fdca26"
            ],
            [
             1,
             "#f0f921"
            ]
           ],
           "sequentialminus": [
            [
             0,
             "#0d0887"
            ],
            [
             0.1111111111111111,
             "#46039f"
            ],
            [
             0.2222222222222222,
             "#7201a8"
            ],
            [
             0.3333333333333333,
             "#9c179e"
            ],
            [
             0.4444444444444444,
             "#bd3786"
            ],
            [
             0.5555555555555556,
             "#d8576b"
            ],
            [
             0.6666666666666666,
             "#ed7953"
            ],
            [
             0.7777777777777778,
             "#fb9f3a"
            ],
            [
             0.8888888888888888,
             "#fdca26"
            ],
            [
             1,
             "#f0f921"
            ]
           ]
          },
          "colorway": [
           "#636efa",
           "#EF553B",
           "#00cc96",
           "#ab63fa",
           "#FFA15A",
           "#19d3f3",
           "#FF6692",
           "#B6E880",
           "#FF97FF",
           "#FECB52"
          ],
          "font": {
           "color": "#2a3f5f"
          },
          "geo": {
           "bgcolor": "white",
           "lakecolor": "white",
           "landcolor": "#E5ECF6",
           "showlakes": true,
           "showland": true,
           "subunitcolor": "white"
          },
          "hoverlabel": {
           "align": "left"
          },
          "hovermode": "closest",
          "mapbox": {
           "style": "light"
          },
          "paper_bgcolor": "white",
          "plot_bgcolor": "#E5ECF6",
          "polar": {
           "angularaxis": {
            "gridcolor": "white",
            "linecolor": "white",
            "ticks": ""
           },
           "bgcolor": "#E5ECF6",
           "radialaxis": {
            "gridcolor": "white",
            "linecolor": "white",
            "ticks": ""
           }
          },
          "scene": {
           "xaxis": {
            "backgroundcolor": "#E5ECF6",
            "gridcolor": "white",
            "gridwidth": 2,
            "linecolor": "white",
            "showbackground": true,
            "ticks": "",
            "zerolinecolor": "white"
           },
           "yaxis": {
            "backgroundcolor": "#E5ECF6",
            "gridcolor": "white",
            "gridwidth": 2,
            "linecolor": "white",
            "showbackground": true,
            "ticks": "",
            "zerolinecolor": "white"
           },
           "zaxis": {
            "backgroundcolor": "#E5ECF6",
            "gridcolor": "white",
            "gridwidth": 2,
            "linecolor": "white",
            "showbackground": true,
            "ticks": "",
            "zerolinecolor": "white"
           }
          },
          "shapedefaults": {
           "line": {
            "color": "#2a3f5f"
           }
          },
          "ternary": {
           "aaxis": {
            "gridcolor": "white",
            "linecolor": "white",
            "ticks": ""
           },
           "baxis": {
            "gridcolor": "white",
            "linecolor": "white",
            "ticks": ""
           },
           "bgcolor": "#E5ECF6",
           "caxis": {
            "gridcolor": "white",
            "linecolor": "white",
            "ticks": ""
           }
          },
          "title": {
           "x": 0.05
          },
          "xaxis": {
           "automargin": true,
           "gridcolor": "white",
           "linecolor": "white",
           "ticks": "",
           "title": {
            "standoff": 15
           },
           "zerolinecolor": "white",
           "zerolinewidth": 2
          },
          "yaxis": {
           "automargin": true,
           "gridcolor": "white",
           "linecolor": "white",
           "ticks": "",
           "title": {
            "standoff": 15
           },
           "zerolinecolor": "white",
           "zerolinewidth": 2
          }
         }
        },
        "title": {
         "text": "Iteration vs Cost"
        },
        "xaxis": {
         "anchor": "y",
         "domain": [
          0,
          1
         ],
         "title": {
          "text": "Iteration"
         }
        },
        "yaxis": {
         "anchor": "x",
         "domain": [
          0,
          1
         ],
         "title": {
          "text": "Cost"
         }
        }
       }
      }
     },
     "metadata": {},
     "output_type": "display_data"
    }
   ],
   "source": [
    "# Convert cost history into numpy arrays\n",
    "cost_hist = np.array(custom_linear_lr_model.cost_history)\n",
    "\n",
    "# Plotly Express line chart\n",
    "fig = px.line(\n",
    "    x=cost_hist[:, 0],\n",
    "    y=cost_hist[:, 1],\n",
    "    title=\"Iteration vs Cost\",\n",
    "    labels={\"x\": \"Iteration\", \"y\": \"Cost\"}\n",
    ")\n",
    "\n",
    "# Show the plot\n",
    "fig.show()\n",
    "\n",
    "# Saved as plot_1.png in the current directory/folder"
   ]
  },
  {
   "cell_type": "markdown",
   "metadata": {},
   "source": [
    "The above plot shows the decrease in cost as the number of iterations increases, indicating the proper functioning of gradient descent in minimizing cost and leading to optimal model parameters."
   ]
  },
  {
   "cell_type": "code",
   "execution_count": 13,
   "metadata": {},
   "outputs": [
    {
     "name": "stdout",
     "output_type": "stream",
     "text": [
      "Custom Linear Logistic Regression:\n",
      "Training set - Accuracy: 0.9308, Precision: 0.9243, Recall: 0.8980, F1-score: 0.9110\n",
      "Validation set - Accuracy: 0.9239, Precision: 0.9269, Recall: 0.8757, F1-score: 0.9006\n",
      "Test set - Accuracy: 0.9218, Precision: 0.9145, Recall: 0.8843, F1-score: 0.8992\n"
     ]
    }
   ],
   "source": [
    "# Evaluate the custom linear logistic regression model\n",
    "train_acc, train_prec, train_rec, train_f1 = custom_linear_lr_model.evaluate_model(X_train_scaled, y_train.reshape(-1, 1))\n",
    "val_acc, val_prec, val_rec, val_f1 = custom_linear_lr_model.evaluate_model(X_val_scaled, y_val.reshape(-1, 1))\n",
    "test_acc, test_prec, test_rec, test_f1 = custom_linear_lr_model.evaluate_model(X_test_scaled, y_test.reshape(-1, 1))\n",
    "\n",
    "print(\"Custom Linear Logistic Regression:\")\n",
    "\n",
    "print(f\"Training set - Accuracy: {train_acc:.4f}, Precision: {train_prec:.4f}, Recall: {train_rec:.4f}, \"\n",
    "        f\"F1-score: {train_f1:.4f}\")\n",
    "\n",
    "print(f\"Validation set - Accuracy: {val_acc:.4f}, Precision: {val_prec:.4f}, Recall: {val_rec:.4f}, \"\n",
    "        f\"F1-score: {val_f1:.4f}\")\n",
    "\n",
    "print(f\"Test set - Accuracy: {test_acc:.4f}, Precision: {test_prec:.4f}, Recall: {test_rec:.4f}, \"\n",
    "        f\"F1-score: {test_f1:.4f}\")"
   ]
  },
  {
   "cell_type": "markdown",
   "metadata": {},
   "source": [
    "Scikit-Learn Linear Logistic Regression:<br>\n",
    "Training set - Accuracy: 0.9283, Precision: 0.9246, Recall: 0.8906, F1-score: 0.9073<br>\n",
    "Validation set - Accuracy: 0.9250, Precision: 0.9322, Recall: 0.8729, F1-score: 0.9016<br>\n",
    "Test set - Accuracy: 0.9175, Precision: 0.9135, Recall: 0.8733, F1-score: 0.8930"
   ]
  },
  {
   "cell_type": "markdown",
   "metadata": {},
   "source": [
    "The Custom Linear Logistic Regression model generally outperforms the Scikit-Learn model across training and test sets, with slight exceptions. For the training set, the custom model achieves an accuracy of **0.9308**, precision of **0.9243**, recall of **0.8980**, and F1-score of **0.9110**, with a slightly lower precision compared to the Scikit-Learn model's **0.9246**. On the test set, the custom model maintains its lead with an accuracy of **0.9218**, precision of **0.9145**, recall of **0.8843**, and F1-score of **0.8992**, compared to **0.9175**, **0.9135**, **0.8733**, and **0.8930** for the Scikit-Learn model. However, on the validation set, the Scikit-Learn model performs slightly better with an accuracy of **0.9250**, precision of **0.9322**, recall of **0.8729**, and F1-score of **0.9016**, while the custom model achieves **0.9239**, **0.9269**, **0.8757**, and **0.9006** for these metrics, having slightly better recall performance. Overall, the custom model demonstrates strong performance across different sets, particularly on unseen data (test set). With the goal of building a binary classification model with a linear decision boundary achieved, our next step is to develop a binary classification model with a non-linear/polynomial decision boundary."
   ]
  },
  {
   "cell_type": "markdown",
   "metadata": {},
   "source": [
    "## 2. Binary Classification Model with Non-Linear Decision Boundary"
   ]
  },
  {
   "cell_type": "markdown",
   "metadata": {},
   "source": [
    "##### This project also uses data from the [`UCI Machine Learning Repository`](https://archive.ics.uci.edu/dataset/563/iranian+churn+dataset). The dataset is licensed under a [`Creative Commons Attribution 4.0 International (CC BY 4.0) license`](https://creativecommons.org/licenses/by/4.0/legalcode). The features (X_) and target (y_) variables were converted into numpy arrays, for building a machine learning model."
   ]
  },
  {
   "cell_type": "code",
   "execution_count": 14,
   "metadata": {},
   "outputs": [],
   "source": [
    "# fetch dataset\n",
    "iranian_churn = fetch_ucirepo(id=563)\n",
    "\n",
    "# data (as pandas dataframes)\n",
    "X_ = iranian_churn.data.features\n",
    "y_ = iranian_churn.data.targets"
   ]
  },
  {
   "cell_type": "code",
   "execution_count": 15,
   "metadata": {},
   "outputs": [
    {
     "data": {
      "text/html": [
       "<div>\n",
       "<style scoped>\n",
       "    .dataframe tbody tr th:only-of-type {\n",
       "        vertical-align: middle;\n",
       "    }\n",
       "\n",
       "    .dataframe tbody tr th {\n",
       "        vertical-align: top;\n",
       "    }\n",
       "\n",
       "    .dataframe thead th {\n",
       "        text-align: right;\n",
       "    }\n",
       "</style>\n",
       "<table border=\"1\" class=\"dataframe\">\n",
       "  <thead>\n",
       "    <tr style=\"text-align: right;\">\n",
       "      <th></th>\n",
       "      <th>Call  Failure</th>\n",
       "      <th>Complains</th>\n",
       "      <th>Subscription  Length</th>\n",
       "      <th>Charge  Amount</th>\n",
       "      <th>Seconds of Use</th>\n",
       "      <th>Frequency of use</th>\n",
       "      <th>Frequency of SMS</th>\n",
       "      <th>Distinct Called Numbers</th>\n",
       "      <th>Age Group</th>\n",
       "      <th>Tariff Plan</th>\n",
       "      <th>Status</th>\n",
       "      <th>Age</th>\n",
       "      <th>Customer Value</th>\n",
       "    </tr>\n",
       "  </thead>\n",
       "  <tbody>\n",
       "    <tr>\n",
       "      <th>0</th>\n",
       "      <td>8</td>\n",
       "      <td>0</td>\n",
       "      <td>38</td>\n",
       "      <td>0</td>\n",
       "      <td>4370</td>\n",
       "      <td>71</td>\n",
       "      <td>5</td>\n",
       "      <td>17</td>\n",
       "      <td>3</td>\n",
       "      <td>1</td>\n",
       "      <td>1</td>\n",
       "      <td>30</td>\n",
       "      <td>197.640</td>\n",
       "    </tr>\n",
       "    <tr>\n",
       "      <th>1</th>\n",
       "      <td>0</td>\n",
       "      <td>0</td>\n",
       "      <td>39</td>\n",
       "      <td>0</td>\n",
       "      <td>318</td>\n",
       "      <td>5</td>\n",
       "      <td>7</td>\n",
       "      <td>4</td>\n",
       "      <td>2</td>\n",
       "      <td>1</td>\n",
       "      <td>2</td>\n",
       "      <td>25</td>\n",
       "      <td>46.035</td>\n",
       "    </tr>\n",
       "    <tr>\n",
       "      <th>2</th>\n",
       "      <td>10</td>\n",
       "      <td>0</td>\n",
       "      <td>37</td>\n",
       "      <td>0</td>\n",
       "      <td>2453</td>\n",
       "      <td>60</td>\n",
       "      <td>359</td>\n",
       "      <td>24</td>\n",
       "      <td>3</td>\n",
       "      <td>1</td>\n",
       "      <td>1</td>\n",
       "      <td>30</td>\n",
       "      <td>1536.520</td>\n",
       "    </tr>\n",
       "    <tr>\n",
       "      <th>3</th>\n",
       "      <td>10</td>\n",
       "      <td>0</td>\n",
       "      <td>38</td>\n",
       "      <td>0</td>\n",
       "      <td>4198</td>\n",
       "      <td>66</td>\n",
       "      <td>1</td>\n",
       "      <td>35</td>\n",
       "      <td>1</td>\n",
       "      <td>1</td>\n",
       "      <td>1</td>\n",
       "      <td>15</td>\n",
       "      <td>240.020</td>\n",
       "    </tr>\n",
       "    <tr>\n",
       "      <th>4</th>\n",
       "      <td>3</td>\n",
       "      <td>0</td>\n",
       "      <td>38</td>\n",
       "      <td>0</td>\n",
       "      <td>2393</td>\n",
       "      <td>58</td>\n",
       "      <td>2</td>\n",
       "      <td>33</td>\n",
       "      <td>1</td>\n",
       "      <td>1</td>\n",
       "      <td>1</td>\n",
       "      <td>15</td>\n",
       "      <td>145.805</td>\n",
       "    </tr>\n",
       "    <tr>\n",
       "      <th>5</th>\n",
       "      <td>11</td>\n",
       "      <td>0</td>\n",
       "      <td>38</td>\n",
       "      <td>1</td>\n",
       "      <td>3775</td>\n",
       "      <td>82</td>\n",
       "      <td>32</td>\n",
       "      <td>28</td>\n",
       "      <td>3</td>\n",
       "      <td>1</td>\n",
       "      <td>1</td>\n",
       "      <td>30</td>\n",
       "      <td>282.280</td>\n",
       "    </tr>\n",
       "    <tr>\n",
       "      <th>6</th>\n",
       "      <td>4</td>\n",
       "      <td>0</td>\n",
       "      <td>38</td>\n",
       "      <td>0</td>\n",
       "      <td>2360</td>\n",
       "      <td>39</td>\n",
       "      <td>285</td>\n",
       "      <td>18</td>\n",
       "      <td>3</td>\n",
       "      <td>1</td>\n",
       "      <td>1</td>\n",
       "      <td>30</td>\n",
       "      <td>1235.960</td>\n",
       "    </tr>\n",
       "    <tr>\n",
       "      <th>7</th>\n",
       "      <td>13</td>\n",
       "      <td>0</td>\n",
       "      <td>37</td>\n",
       "      <td>2</td>\n",
       "      <td>9115</td>\n",
       "      <td>121</td>\n",
       "      <td>144</td>\n",
       "      <td>43</td>\n",
       "      <td>3</td>\n",
       "      <td>1</td>\n",
       "      <td>1</td>\n",
       "      <td>30</td>\n",
       "      <td>945.440</td>\n",
       "    </tr>\n",
       "    <tr>\n",
       "      <th>8</th>\n",
       "      <td>7</td>\n",
       "      <td>0</td>\n",
       "      <td>38</td>\n",
       "      <td>0</td>\n",
       "      <td>13773</td>\n",
       "      <td>169</td>\n",
       "      <td>0</td>\n",
       "      <td>44</td>\n",
       "      <td>3</td>\n",
       "      <td>1</td>\n",
       "      <td>1</td>\n",
       "      <td>30</td>\n",
       "      <td>557.680</td>\n",
       "    </tr>\n",
       "    <tr>\n",
       "      <th>9</th>\n",
       "      <td>7</td>\n",
       "      <td>0</td>\n",
       "      <td>38</td>\n",
       "      <td>1</td>\n",
       "      <td>4515</td>\n",
       "      <td>83</td>\n",
       "      <td>2</td>\n",
       "      <td>25</td>\n",
       "      <td>3</td>\n",
       "      <td>1</td>\n",
       "      <td>1</td>\n",
       "      <td>30</td>\n",
       "      <td>191.920</td>\n",
       "    </tr>\n",
       "  </tbody>\n",
       "</table>\n",
       "</div>"
      ],
      "text/plain": [
       "   Call  Failure  Complains  Subscription  Length  Charge  Amount  \\\n",
       "0              8          0                    38               0   \n",
       "1              0          0                    39               0   \n",
       "2             10          0                    37               0   \n",
       "3             10          0                    38               0   \n",
       "4              3          0                    38               0   \n",
       "5             11          0                    38               1   \n",
       "6              4          0                    38               0   \n",
       "7             13          0                    37               2   \n",
       "8              7          0                    38               0   \n",
       "9              7          0                    38               1   \n",
       "\n",
       "   Seconds of Use  Frequency of use  Frequency of SMS  \\\n",
       "0            4370                71                 5   \n",
       "1             318                 5                 7   \n",
       "2            2453                60               359   \n",
       "3            4198                66                 1   \n",
       "4            2393                58                 2   \n",
       "5            3775                82                32   \n",
       "6            2360                39               285   \n",
       "7            9115               121               144   \n",
       "8           13773               169                 0   \n",
       "9            4515                83                 2   \n",
       "\n",
       "   Distinct Called Numbers  Age Group  Tariff Plan  Status  Age  \\\n",
       "0                       17          3            1       1   30   \n",
       "1                        4          2            1       2   25   \n",
       "2                       24          3            1       1   30   \n",
       "3                       35          1            1       1   15   \n",
       "4                       33          1            1       1   15   \n",
       "5                       28          3            1       1   30   \n",
       "6                       18          3            1       1   30   \n",
       "7                       43          3            1       1   30   \n",
       "8                       44          3            1       1   30   \n",
       "9                       25          3            1       1   30   \n",
       "\n",
       "   Customer Value  \n",
       "0         197.640  \n",
       "1          46.035  \n",
       "2        1536.520  \n",
       "3         240.020  \n",
       "4         145.805  \n",
       "5         282.280  \n",
       "6        1235.960  \n",
       "7         945.440  \n",
       "8         557.680  \n",
       "9         191.920  "
      ]
     },
     "execution_count": 15,
     "metadata": {},
     "output_type": "execute_result"
    }
   ],
   "source": [
    "# View first 10 rows of features data\n",
    "X_.head(10)"
   ]
  },
  {
   "cell_type": "code",
   "execution_count": 16,
   "metadata": {},
   "outputs": [
    {
     "data": {
      "text/html": [
       "<div>\n",
       "<style scoped>\n",
       "    .dataframe tbody tr th:only-of-type {\n",
       "        vertical-align: middle;\n",
       "    }\n",
       "\n",
       "    .dataframe tbody tr th {\n",
       "        vertical-align: top;\n",
       "    }\n",
       "\n",
       "    .dataframe thead th {\n",
       "        text-align: right;\n",
       "    }\n",
       "</style>\n",
       "<table border=\"1\" class=\"dataframe\">\n",
       "  <thead>\n",
       "    <tr style=\"text-align: right;\">\n",
       "      <th></th>\n",
       "      <th>Churn</th>\n",
       "    </tr>\n",
       "  </thead>\n",
       "  <tbody>\n",
       "    <tr>\n",
       "      <th>0</th>\n",
       "      <td>0</td>\n",
       "    </tr>\n",
       "    <tr>\n",
       "      <th>1</th>\n",
       "      <td>0</td>\n",
       "    </tr>\n",
       "    <tr>\n",
       "      <th>2</th>\n",
       "      <td>0</td>\n",
       "    </tr>\n",
       "    <tr>\n",
       "      <th>3</th>\n",
       "      <td>0</td>\n",
       "    </tr>\n",
       "    <tr>\n",
       "      <th>4</th>\n",
       "      <td>0</td>\n",
       "    </tr>\n",
       "    <tr>\n",
       "      <th>...</th>\n",
       "      <td>...</td>\n",
       "    </tr>\n",
       "    <tr>\n",
       "      <th>3145</th>\n",
       "      <td>0</td>\n",
       "    </tr>\n",
       "    <tr>\n",
       "      <th>3146</th>\n",
       "      <td>0</td>\n",
       "    </tr>\n",
       "    <tr>\n",
       "      <th>3147</th>\n",
       "      <td>0</td>\n",
       "    </tr>\n",
       "    <tr>\n",
       "      <th>3148</th>\n",
       "      <td>0</td>\n",
       "    </tr>\n",
       "    <tr>\n",
       "      <th>3149</th>\n",
       "      <td>1</td>\n",
       "    </tr>\n",
       "  </tbody>\n",
       "</table>\n",
       "<p>3150 rows × 1 columns</p>\n",
       "</div>"
      ],
      "text/plain": [
       "      Churn\n",
       "0         0\n",
       "1         0\n",
       "2         0\n",
       "3         0\n",
       "4         0\n",
       "...     ...\n",
       "3145      0\n",
       "3146      0\n",
       "3147      0\n",
       "3148      0\n",
       "3149      1\n",
       "\n",
       "[3150 rows x 1 columns]"
      ]
     },
     "execution_count": 16,
     "metadata": {},
     "output_type": "execute_result"
    }
   ],
   "source": [
    "# View target data\n",
    "y_"
   ]
  },
  {
   "cell_type": "code",
   "execution_count": 17,
   "metadata": {},
   "outputs": [
    {
     "name": "stdout",
     "output_type": "stream",
     "text": [
      "Shape of X_ = (3150, 13)\n",
      "Shape of y_ = (3150, 1)\n",
      "\n",
      "Missing values in X_: \n",
      "[False False False False False False False False False False False False\n",
      " False]\n",
      "\n",
      "Missing values in y_: \n",
      "[False]\n"
     ]
    }
   ],
   "source": [
    "# Check the shape of X_ and y_\n",
    "print(f\"Shape of X_ = {X_.shape}\")\n",
    "print(f\"Shape of y_ = {y_.shape}\")\n",
    "\n",
    "# Check for any missing values for X_ and y_\n",
    "print(f\"\\nMissing values in X_: \\n{X_.isna().any().values}\")\n",
    "print(f\"\\nMissing values in y_: \\n{y_.isna().any().values}\")"
   ]
  },
  {
   "cell_type": "markdown",
   "metadata": {},
   "source": [
    "We have a cleaned dataset with **3,150** training examples, **13** feature variables, and **1** binary target variable. Our goal is to build a binary classification model with a non-linear decision boundary. To ensure the dataset is separable by a non-linear boundary, we will use the same approach as we did with our previous goal of building a binary classification model with a linear decision boundary."
   ]
  },
  {
   "cell_type": "code",
   "execution_count": 18,
   "metadata": {},
   "outputs": [],
   "source": [
    "# Convert the features (X_) and target (y_) variables into numpy arrays\n",
    "X_ = X_.to_numpy()\n",
    "y_ = y_[\"Churn\"].to_numpy()"
   ]
  },
  {
   "cell_type": "code",
   "execution_count": 19,
   "metadata": {},
   "outputs": [
    {
     "name": "stdout",
     "output_type": "stream",
     "text": [
      "Training set: (1890, 13), (1890,)\n",
      "Validation set: (630, 13), (630,)\n",
      "Test set: (630, 13), (630,)\n"
     ]
    }
   ],
   "source": [
    "# Splitting the dataset into training, validation, and test sets\n",
    "X_train_, y_train_, X_val_, y_val_, X_test_, y_test_ = split_dataset(X_, y_)\n",
    "\n",
    "# Standardizing the feature datasets (training, validation, and test sets) to have zero mean and unit variance\n",
    "scaler_, X_train_scaled_, X_val_scaled_, X_test_scaled_ = standardize_dataset(X_train_, X_val_, X_test_)\n",
    "\n",
    "# Printing the shapes of the resulting datasets\n",
    "print(f\"Training set: {X_train_scaled_.shape}, {y_train_.shape}\")\n",
    "print(f\"Validation set: {X_val_scaled_.shape}, {y_val_.shape}\")\n",
    "print(f\"Test set: {X_test_scaled_.shape}, {y_test_.shape}\")"
   ]
  },
  {
   "cell_type": "code",
   "execution_count": 20,
   "metadata": {},
   "outputs": [
    {
     "name": "stdout",
     "output_type": "stream",
     "text": [
      "Linear Logistic Regression:\n",
      "Training set - Accuracy: 0.8942, Precision: 0.7870, Recall: 0.4478, F1-score: 0.5708\n",
      "Validation set - Accuracy: 0.8984, Precision: 0.7869, Recall: 0.4848, F1-score: 0.6000\n",
      "Test set - Accuracy: 0.8889, Precision: 0.7959, Recall: 0.3939, F1-score: 0.5270\n",
      "\n",
      "Polynomial Degree 2 Logistic Regression:\n",
      "Training set - Accuracy: 0.9471, Precision: 0.9301, Recall: 0.7172, F1-score: 0.8099\n",
      "Validation set - Accuracy: 0.9333, Precision: 0.8434, Recall: 0.7071, F1-score: 0.7692\n",
      "Test set - Accuracy: 0.9397, Precision: 0.8588, Recall: 0.7374, F1-score: 0.7935\n",
      "\n",
      "Polynomial Degree 3 Logistic Regression:\n",
      "Training set - Accuracy: 0.9698, Precision: 0.9167, Recall: 0.8889, F1-score: 0.9026\n",
      "Validation set - Accuracy: 0.9635, Precision: 0.8585, Recall: 0.9192, F1-score: 0.8878\n",
      "Test set - Accuracy: 0.9524, Precision: 0.8485, Recall: 0.8485, F1-score: 0.8485\n",
      "\n",
      "Polynomial Degree 4 Logistic Regression:\n",
      "Training set - Accuracy: 0.9783, Precision: 0.9238, Recall: 0.9394, F1-score: 0.9316\n",
      "Validation set - Accuracy: 0.9651, Precision: 0.8468, Recall: 0.9495, F1-score: 0.8952\n",
      "Test set - Accuracy: 0.9524, Precision: 0.8485, Recall: 0.8485, F1-score: 0.8485\n",
      "\n",
      "Polynomial Degree 5 Logistic Regression:\n",
      "Training set - Accuracy: 0.9820, Precision: 0.9311, Recall: 0.9562, F1-score: 0.9435\n",
      "Validation set - Accuracy: 0.9540, Precision: 0.8302, Recall: 0.8889, F1-score: 0.8585\n",
      "Test set - Accuracy: 0.9524, Precision: 0.8557, Recall: 0.8384, F1-score: 0.8469\n"
     ]
    }
   ],
   "source": [
    "# Train and evaluate linear logistic regression model\n",
    "linear_lr_model_ = train_eval_logistic_regression(X_train_scaled_, y_train_, X_val_scaled_, y_val_, X_test_scaled_, y_test_)\n",
    "\n",
    "# Train and evaluate polynomial (degree 2) logistic regression model\n",
    "poly2_lr_model_ = train_eval_logistic_regression(X_train_scaled_, y_train_, X_val_scaled_, y_val_, X_test_scaled_, y_test_,\n",
    "                                                    degree=2)\n",
    "\n",
    "# Train and evaluate polynomial (degree 3) logistic regression model\n",
    "poly3_lr_model_ = train_eval_logistic_regression(X_train_scaled_, y_train_, X_val_scaled_, y_val_, X_test_scaled_, y_test_,\n",
    "                                                    degree=3)\n",
    "\n",
    "# Train and evaluate polynomial (degree 4) logistic regression model\n",
    "poly4_lr_model_ = train_eval_logistic_regression(X_train_scaled_, y_train_, X_val_scaled_, y_val_, X_test_scaled_, y_test_,\n",
    "                                                    degree=4)\n",
    "\n",
    "# Train and evaluate polynomial (degree 5) logistic regression model\n",
    "poly5_lr_model_ = train_eval_logistic_regression(X_train_scaled_, y_train_, X_val_scaled_, y_val_, X_test_scaled_, y_test_,\n",
    "                                                    degree=5)"
   ]
  },
  {
   "cell_type": "markdown",
   "metadata": {},
   "source": [
    "The evaluation results indicate that while the **Linear Logistic Regression** model shows decent performance, its lower **recall** and **F1-score** suggest it struggles with correctly identifying all positive instances. **Polynomial Degree 2 Logistic Regression** improves significantly, capturing more complex patterns and achieving better metrics across all sets. **Polynomial Degree 3** further enhances these metrics, demonstrating robust and consistent performance. **Polynomial Degree 4 Logistic Regression** shows high **accuracy** and **recall**, suggesting it captures more positive instances accurately, but **Polynomial Degree 5**, while maintaining high **accuracy**, indicates potential overfitting with a slight decrease in validation **precision** and test **recall** and **F1-score**. Therefore, the **Polynomial Degree 3** model is the optimal choice, balancing performance and generalization. Now, we will build our custom **Polynomial Degree 3** logistic regression model and compare the results with the optimal scikit-learn model."
   ]
  },
  {
   "cell_type": "code",
   "execution_count": 21,
   "metadata": {},
   "outputs": [],
   "source": [
    "from itertools import combinations_with_replacement\n",
    "\n",
    "\n",
    "def polynomial_features_multiple(X: np.ndarray, degree: int):\n",
    "    \"\"\"\n",
    "    Generate polynomial features for a given standardized dataset X up to a specific degree.\n",
    "    \n",
    "    Parameters:\n",
    "    X (np.ndarray): The standardized input dataset of shape (n_samples, n_features).\n",
    "    degree (int): The degree of the polynomial features.\n",
    "    \n",
    "    Returns:\n",
    "    np.ndarray: A new dataset with polynomial features of shape (n_samples, n_output_features).\n",
    "    \n",
    "    \"\"\"\n",
    "    \n",
    "    n_features = X.shape[1]\n",
    "    \n",
    "    # List to hold the polynomial features\n",
    "    features = []\n",
    "    \n",
    "    # Add polynomial features of all degrees from 1 to the specified degree\n",
    "    for d in range(1, degree + 1):\n",
    "        for indices in combinations_with_replacement(range(n_features), d):\n",
    "            new_feature = np.prod(X[:, indices], axis=1)\n",
    "            features.append(new_feature)\n",
    "    \n",
    "    return np.vstack(features).T"
   ]
  },
  {
   "cell_type": "code",
   "execution_count": 22,
   "metadata": {},
   "outputs": [
    {
     "name": "stdout",
     "output_type": "stream",
     "text": [
      "Iteration 100/1000: Cost 0.17299103043391806\n",
      "Iteration 200/1000: Cost 0.13000487619638096\n",
      "Iteration 300/1000: Cost 0.1118748593831729\n",
      "Iteration 400/1000: Cost 0.10316749304994151\n",
      "Iteration 500/1000: Cost 0.097527276515648\n",
      "Iteration 600/1000: Cost 0.09335426309812214\n",
      "Iteration 700/1000: Cost 0.09008193632326347\n",
      "Iteration 800/1000: Cost 0.08748242079359296\n",
      "Iteration 900/1000: Cost 0.08553166047931152\n",
      "Iteration 1000/1000: Cost 0.08415279098185142\n"
     ]
    }
   ],
   "source": [
    "# Train custom polynomial (degree 3) logistic regression model\n",
    "custom_poly3_lr_model = CustomLogisticRegression(learning_rate=0.39)\n",
    "custom_poly3_lr_model.fit(polynomial_features_multiple(X_train_scaled_, 3), y_train_.reshape(-1, 1))"
   ]
  },
  {
   "cell_type": "code",
   "execution_count": 23,
   "metadata": {},
   "outputs": [
    {
     "data": {
      "application/vnd.plotly.v1+json": {
       "config": {
        "plotlyServerURL": "https://plot.ly"
       },
       "data": [
        {
         "hovertemplate": "Iteration=%{x}<br>Cost=%{y}<extra></extra>",
         "legendgroup": "",
         "line": {
          "color": "#636efa",
          "dash": "solid"
         },
         "marker": {
          "symbol": "circle"
         },
         "mode": "lines",
         "name": "",
         "orientation": "v",
         "showlegend": false,
         "type": "scatter",
         "x": [
          100,
          200,
          300,
          400,
          500,
          600,
          700,
          800,
          900,
          1000
         ],
         "xaxis": "x",
         "y": [
          0.17299103043391806,
          0.13000487619638096,
          0.1118748593831729,
          0.10316749304994151,
          0.097527276515648,
          0.09335426309812214,
          0.09008193632326347,
          0.08748242079359296,
          0.08553166047931152,
          0.08415279098185142
         ],
         "yaxis": "y"
        }
       ],
       "layout": {
        "legend": {
         "tracegroupgap": 0
        },
        "template": {
         "data": {
          "bar": [
           {
            "error_x": {
             "color": "#2a3f5f"
            },
            "error_y": {
             "color": "#2a3f5f"
            },
            "marker": {
             "line": {
              "color": "#E5ECF6",
              "width": 0.5
             },
             "pattern": {
              "fillmode": "overlay",
              "size": 10,
              "solidity": 0.2
             }
            },
            "type": "bar"
           }
          ],
          "barpolar": [
           {
            "marker": {
             "line": {
              "color": "#E5ECF6",
              "width": 0.5
             },
             "pattern": {
              "fillmode": "overlay",
              "size": 10,
              "solidity": 0.2
             }
            },
            "type": "barpolar"
           }
          ],
          "carpet": [
           {
            "aaxis": {
             "endlinecolor": "#2a3f5f",
             "gridcolor": "white",
             "linecolor": "white",
             "minorgridcolor": "white",
             "startlinecolor": "#2a3f5f"
            },
            "baxis": {
             "endlinecolor": "#2a3f5f",
             "gridcolor": "white",
             "linecolor": "white",
             "minorgridcolor": "white",
             "startlinecolor": "#2a3f5f"
            },
            "type": "carpet"
           }
          ],
          "choropleth": [
           {
            "colorbar": {
             "outlinewidth": 0,
             "ticks": ""
            },
            "type": "choropleth"
           }
          ],
          "contour": [
           {
            "colorbar": {
             "outlinewidth": 0,
             "ticks": ""
            },
            "colorscale": [
             [
              0,
              "#0d0887"
             ],
             [
              0.1111111111111111,
              "#46039f"
             ],
             [
              0.2222222222222222,
              "#7201a8"
             ],
             [
              0.3333333333333333,
              "#9c179e"
             ],
             [
              0.4444444444444444,
              "#bd3786"
             ],
             [
              0.5555555555555556,
              "#d8576b"
             ],
             [
              0.6666666666666666,
              "#ed7953"
             ],
             [
              0.7777777777777778,
              "#fb9f3a"
             ],
             [
              0.8888888888888888,
              "#fdca26"
             ],
             [
              1,
              "#f0f921"
             ]
            ],
            "type": "contour"
           }
          ],
          "contourcarpet": [
           {
            "colorbar": {
             "outlinewidth": 0,
             "ticks": ""
            },
            "type": "contourcarpet"
           }
          ],
          "heatmap": [
           {
            "colorbar": {
             "outlinewidth": 0,
             "ticks": ""
            },
            "colorscale": [
             [
              0,
              "#0d0887"
             ],
             [
              0.1111111111111111,
              "#46039f"
             ],
             [
              0.2222222222222222,
              "#7201a8"
             ],
             [
              0.3333333333333333,
              "#9c179e"
             ],
             [
              0.4444444444444444,
              "#bd3786"
             ],
             [
              0.5555555555555556,
              "#d8576b"
             ],
             [
              0.6666666666666666,
              "#ed7953"
             ],
             [
              0.7777777777777778,
              "#fb9f3a"
             ],
             [
              0.8888888888888888,
              "#fdca26"
             ],
             [
              1,
              "#f0f921"
             ]
            ],
            "type": "heatmap"
           }
          ],
          "heatmapgl": [
           {
            "colorbar": {
             "outlinewidth": 0,
             "ticks": ""
            },
            "colorscale": [
             [
              0,
              "#0d0887"
             ],
             [
              0.1111111111111111,
              "#46039f"
             ],
             [
              0.2222222222222222,
              "#7201a8"
             ],
             [
              0.3333333333333333,
              "#9c179e"
             ],
             [
              0.4444444444444444,
              "#bd3786"
             ],
             [
              0.5555555555555556,
              "#d8576b"
             ],
             [
              0.6666666666666666,
              "#ed7953"
             ],
             [
              0.7777777777777778,
              "#fb9f3a"
             ],
             [
              0.8888888888888888,
              "#fdca26"
             ],
             [
              1,
              "#f0f921"
             ]
            ],
            "type": "heatmapgl"
           }
          ],
          "histogram": [
           {
            "marker": {
             "pattern": {
              "fillmode": "overlay",
              "size": 10,
              "solidity": 0.2
             }
            },
            "type": "histogram"
           }
          ],
          "histogram2d": [
           {
            "colorbar": {
             "outlinewidth": 0,
             "ticks": ""
            },
            "colorscale": [
             [
              0,
              "#0d0887"
             ],
             [
              0.1111111111111111,
              "#46039f"
             ],
             [
              0.2222222222222222,
              "#7201a8"
             ],
             [
              0.3333333333333333,
              "#9c179e"
             ],
             [
              0.4444444444444444,
              "#bd3786"
             ],
             [
              0.5555555555555556,
              "#d8576b"
             ],
             [
              0.6666666666666666,
              "#ed7953"
             ],
             [
              0.7777777777777778,
              "#fb9f3a"
             ],
             [
              0.8888888888888888,
              "#fdca26"
             ],
             [
              1,
              "#f0f921"
             ]
            ],
            "type": "histogram2d"
           }
          ],
          "histogram2dcontour": [
           {
            "colorbar": {
             "outlinewidth": 0,
             "ticks": ""
            },
            "colorscale": [
             [
              0,
              "#0d0887"
             ],
             [
              0.1111111111111111,
              "#46039f"
             ],
             [
              0.2222222222222222,
              "#7201a8"
             ],
             [
              0.3333333333333333,
              "#9c179e"
             ],
             [
              0.4444444444444444,
              "#bd3786"
             ],
             [
              0.5555555555555556,
              "#d8576b"
             ],
             [
              0.6666666666666666,
              "#ed7953"
             ],
             [
              0.7777777777777778,
              "#fb9f3a"
             ],
             [
              0.8888888888888888,
              "#fdca26"
             ],
             [
              1,
              "#f0f921"
             ]
            ],
            "type": "histogram2dcontour"
           }
          ],
          "mesh3d": [
           {
            "colorbar": {
             "outlinewidth": 0,
             "ticks": ""
            },
            "type": "mesh3d"
           }
          ],
          "parcoords": [
           {
            "line": {
             "colorbar": {
              "outlinewidth": 0,
              "ticks": ""
             }
            },
            "type": "parcoords"
           }
          ],
          "pie": [
           {
            "automargin": true,
            "type": "pie"
           }
          ],
          "scatter": [
           {
            "fillpattern": {
             "fillmode": "overlay",
             "size": 10,
             "solidity": 0.2
            },
            "type": "scatter"
           }
          ],
          "scatter3d": [
           {
            "line": {
             "colorbar": {
              "outlinewidth": 0,
              "ticks": ""
             }
            },
            "marker": {
             "colorbar": {
              "outlinewidth": 0,
              "ticks": ""
             }
            },
            "type": "scatter3d"
           }
          ],
          "scattercarpet": [
           {
            "marker": {
             "colorbar": {
              "outlinewidth": 0,
              "ticks": ""
             }
            },
            "type": "scattercarpet"
           }
          ],
          "scattergeo": [
           {
            "marker": {
             "colorbar": {
              "outlinewidth": 0,
              "ticks": ""
             }
            },
            "type": "scattergeo"
           }
          ],
          "scattergl": [
           {
            "marker": {
             "colorbar": {
              "outlinewidth": 0,
              "ticks": ""
             }
            },
            "type": "scattergl"
           }
          ],
          "scattermapbox": [
           {
            "marker": {
             "colorbar": {
              "outlinewidth": 0,
              "ticks": ""
             }
            },
            "type": "scattermapbox"
           }
          ],
          "scatterpolar": [
           {
            "marker": {
             "colorbar": {
              "outlinewidth": 0,
              "ticks": ""
             }
            },
            "type": "scatterpolar"
           }
          ],
          "scatterpolargl": [
           {
            "marker": {
             "colorbar": {
              "outlinewidth": 0,
              "ticks": ""
             }
            },
            "type": "scatterpolargl"
           }
          ],
          "scatterternary": [
           {
            "marker": {
             "colorbar": {
              "outlinewidth": 0,
              "ticks": ""
             }
            },
            "type": "scatterternary"
           }
          ],
          "surface": [
           {
            "colorbar": {
             "outlinewidth": 0,
             "ticks": ""
            },
            "colorscale": [
             [
              0,
              "#0d0887"
             ],
             [
              0.1111111111111111,
              "#46039f"
             ],
             [
              0.2222222222222222,
              "#7201a8"
             ],
             [
              0.3333333333333333,
              "#9c179e"
             ],
             [
              0.4444444444444444,
              "#bd3786"
             ],
             [
              0.5555555555555556,
              "#d8576b"
             ],
             [
              0.6666666666666666,
              "#ed7953"
             ],
             [
              0.7777777777777778,
              "#fb9f3a"
             ],
             [
              0.8888888888888888,
              "#fdca26"
             ],
             [
              1,
              "#f0f921"
             ]
            ],
            "type": "surface"
           }
          ],
          "table": [
           {
            "cells": {
             "fill": {
              "color": "#EBF0F8"
             },
             "line": {
              "color": "white"
             }
            },
            "header": {
             "fill": {
              "color": "#C8D4E3"
             },
             "line": {
              "color": "white"
             }
            },
            "type": "table"
           }
          ]
         },
         "layout": {
          "annotationdefaults": {
           "arrowcolor": "#2a3f5f",
           "arrowhead": 0,
           "arrowwidth": 1
          },
          "autotypenumbers": "strict",
          "coloraxis": {
           "colorbar": {
            "outlinewidth": 0,
            "ticks": ""
           }
          },
          "colorscale": {
           "diverging": [
            [
             0,
             "#8e0152"
            ],
            [
             0.1,
             "#c51b7d"
            ],
            [
             0.2,
             "#de77ae"
            ],
            [
             0.3,
             "#f1b6da"
            ],
            [
             0.4,
             "#fde0ef"
            ],
            [
             0.5,
             "#f7f7f7"
            ],
            [
             0.6,
             "#e6f5d0"
            ],
            [
             0.7,
             "#b8e186"
            ],
            [
             0.8,
             "#7fbc41"
            ],
            [
             0.9,
             "#4d9221"
            ],
            [
             1,
             "#276419"
            ]
           ],
           "sequential": [
            [
             0,
             "#0d0887"
            ],
            [
             0.1111111111111111,
             "#46039f"
            ],
            [
             0.2222222222222222,
             "#7201a8"
            ],
            [
             0.3333333333333333,
             "#9c179e"
            ],
            [
             0.4444444444444444,
             "#bd3786"
            ],
            [
             0.5555555555555556,
             "#d8576b"
            ],
            [
             0.6666666666666666,
             "#ed7953"
            ],
            [
             0.7777777777777778,
             "#fb9f3a"
            ],
            [
             0.8888888888888888,
             "#fdca26"
            ],
            [
             1,
             "#f0f921"
            ]
           ],
           "sequentialminus": [
            [
             0,
             "#0d0887"
            ],
            [
             0.1111111111111111,
             "#46039f"
            ],
            [
             0.2222222222222222,
             "#7201a8"
            ],
            [
             0.3333333333333333,
             "#9c179e"
            ],
            [
             0.4444444444444444,
             "#bd3786"
            ],
            [
             0.5555555555555556,
             "#d8576b"
            ],
            [
             0.6666666666666666,
             "#ed7953"
            ],
            [
             0.7777777777777778,
             "#fb9f3a"
            ],
            [
             0.8888888888888888,
             "#fdca26"
            ],
            [
             1,
             "#f0f921"
            ]
           ]
          },
          "colorway": [
           "#636efa",
           "#EF553B",
           "#00cc96",
           "#ab63fa",
           "#FFA15A",
           "#19d3f3",
           "#FF6692",
           "#B6E880",
           "#FF97FF",
           "#FECB52"
          ],
          "font": {
           "color": "#2a3f5f"
          },
          "geo": {
           "bgcolor": "white",
           "lakecolor": "white",
           "landcolor": "#E5ECF6",
           "showlakes": true,
           "showland": true,
           "subunitcolor": "white"
          },
          "hoverlabel": {
           "align": "left"
          },
          "hovermode": "closest",
          "mapbox": {
           "style": "light"
          },
          "paper_bgcolor": "white",
          "plot_bgcolor": "#E5ECF6",
          "polar": {
           "angularaxis": {
            "gridcolor": "white",
            "linecolor": "white",
            "ticks": ""
           },
           "bgcolor": "#E5ECF6",
           "radialaxis": {
            "gridcolor": "white",
            "linecolor": "white",
            "ticks": ""
           }
          },
          "scene": {
           "xaxis": {
            "backgroundcolor": "#E5ECF6",
            "gridcolor": "white",
            "gridwidth": 2,
            "linecolor": "white",
            "showbackground": true,
            "ticks": "",
            "zerolinecolor": "white"
           },
           "yaxis": {
            "backgroundcolor": "#E5ECF6",
            "gridcolor": "white",
            "gridwidth": 2,
            "linecolor": "white",
            "showbackground": true,
            "ticks": "",
            "zerolinecolor": "white"
           },
           "zaxis": {
            "backgroundcolor": "#E5ECF6",
            "gridcolor": "white",
            "gridwidth": 2,
            "linecolor": "white",
            "showbackground": true,
            "ticks": "",
            "zerolinecolor": "white"
           }
          },
          "shapedefaults": {
           "line": {
            "color": "#2a3f5f"
           }
          },
          "ternary": {
           "aaxis": {
            "gridcolor": "white",
            "linecolor": "white",
            "ticks": ""
           },
           "baxis": {
            "gridcolor": "white",
            "linecolor": "white",
            "ticks": ""
           },
           "bgcolor": "#E5ECF6",
           "caxis": {
            "gridcolor": "white",
            "linecolor": "white",
            "ticks": ""
           }
          },
          "title": {
           "x": 0.05
          },
          "xaxis": {
           "automargin": true,
           "gridcolor": "white",
           "linecolor": "white",
           "ticks": "",
           "title": {
            "standoff": 15
           },
           "zerolinecolor": "white",
           "zerolinewidth": 2
          },
          "yaxis": {
           "automargin": true,
           "gridcolor": "white",
           "linecolor": "white",
           "ticks": "",
           "title": {
            "standoff": 15
           },
           "zerolinecolor": "white",
           "zerolinewidth": 2
          }
         }
        },
        "title": {
         "text": "Iteration vs Cost"
        },
        "xaxis": {
         "anchor": "y",
         "domain": [
          0,
          1
         ],
         "title": {
          "text": "Iteration"
         }
        },
        "yaxis": {
         "anchor": "x",
         "domain": [
          0,
          1
         ],
         "title": {
          "text": "Cost"
         }
        }
       }
      }
     },
     "metadata": {},
     "output_type": "display_data"
    }
   ],
   "source": [
    "# Convert cost history into numpy arrays\n",
    "cost_hist_ = np.array(custom_poly3_lr_model.cost_history)\n",
    "\n",
    "# Plotly Express line chart\n",
    "fig = px.line(\n",
    "    x=cost_hist_[:, 0],\n",
    "    y=cost_hist_[:, 1],\n",
    "    title=\"Iteration vs Cost\",\n",
    "    labels={\"x\": \"Iteration\", \"y\": \"Cost\"}\n",
    ")\n",
    "\n",
    "# Show the plot\n",
    "fig.show()\n",
    "\n",
    "# Saved as plot_2.png in the current directory/folder"
   ]
  },
  {
   "cell_type": "markdown",
   "metadata": {},
   "source": [
    "The above plot shows the decrease in cost as the number of iterations increases, indicating the proper functioning of gradient descent in minimizing cost and leading to optimal model parameters."
   ]
  },
  {
   "cell_type": "code",
   "execution_count": 24,
   "metadata": {},
   "outputs": [
    {
     "name": "stdout",
     "output_type": "stream",
     "text": [
      "Custom Polynomial (degree 3) Logistic Regression:\n",
      "Training set - Accuracy: 0.9651, Precision: 0.9053, Recall: 0.8687, F1-score: 0.8866\n",
      "Validation set - Accuracy: 0.9571, Precision: 0.8600, Recall: 0.8687, F1-score: 0.8643\n",
      "Test set - Accuracy: 0.9476, Precision: 0.8511, Recall: 0.8081, F1-score: 0.8290\n"
     ]
    }
   ],
   "source": [
    "# Evaluate the custom polynomial (degree 3) logistic regression model\n",
    "train_acc_, train_prec_, train_rec_, train_f1_ = \\\n",
    "        custom_poly3_lr_model.evaluate_model(polynomial_features_multiple(X_train_scaled_, 3), y_train_.reshape(-1, 1))\n",
    "\n",
    "val_acc_, val_prec_, val_rec_, val_f1_ = \\\n",
    "        custom_poly3_lr_model.evaluate_model(polynomial_features_multiple(X_val_scaled_, 3), y_val_.reshape(-1, 1))\n",
    "\n",
    "test_acc_, test_prec_, test_rec_, test_f1_ = \\\n",
    "        custom_poly3_lr_model.evaluate_model(polynomial_features_multiple(X_test_scaled_, 3), y_test_.reshape(-1, 1))\n",
    "\n",
    "print(\"Custom Polynomial (degree 3) Logistic Regression:\")\n",
    "\n",
    "print(f\"Training set - Accuracy: {train_acc_:.4f}, Precision: {train_prec_:.4f}, Recall: {train_rec_:.4f}, \"\n",
    "        f\"F1-score: {train_f1_:.4f}\")\n",
    "\n",
    "print(f\"Validation set - Accuracy: {val_acc_:.4f}, Precision: {val_prec_:.4f}, Recall: {val_rec_:.4f}, \"\n",
    "        f\"F1-score: {val_f1_:.4f}\")\n",
    "\n",
    "print(f\"Test set - Accuracy: {test_acc_:.4f}, Precision: {test_prec_:.4f}, Recall: {test_rec_:.4f}, \"\n",
    "        f\"F1-score: {test_f1_:.4f}\")"
   ]
  },
  {
   "cell_type": "markdown",
   "metadata": {},
   "source": [
    "Scikit-Learn Polynomial (degree 3) Logistic Regression: <br>\n",
    "Training set - Accuracy: 0.9698, Precision: 0.9167, Recall: 0.8889, F1-score: 0.9026 <br>\n",
    "Validation set - Accuracy: 0.9635, Precision: 0.8585, Recall: 0.9192, F1-score: 0.8878 <br>\n",
    "Test set - Accuracy: 0.9524, Precision: 0.8485, Recall: 0.8485, F1-score: 0.8485"
   ]
  },
  {
   "cell_type": "markdown",
   "metadata": {},
   "source": [
    "Both the custom polynomial logistic regression model and Scikit-Learn's implementation perform strongly with a degree of **3**. The custom model achieves high accuracy across training (**96.51%**), validation (**95.71%**), and test (**94.76%**) sets, with notable precision (**90.53%**, **86.00%**, **85.11%**), recall (**86.87%**, **86.87%**, **80.81%**), and F1-scores (**88.66%**, **86.43%**, **82.90%**) respectively. In comparison, Scikit-Learn's model shows slightly higher metrics on the training set (**96.98%**, **91.67%**, **88.89%**, **90.26%**) but similar or marginally improved results on the validation (**96.35%**, **85.85%**, **91.92%**, **88.78%**) and test sets (**95.24%**, **84.85%**, **84.85%**, **84.85%**). Both models demonstrate effective polynomial logistic regression capabilities, with the custom model showing competitive performance despite slight variations in recall and F1-scores compared to the Scikit-Learn implementation. So, with this comparison, our goal of building a binary classification model with a non-linear/polynomial decision boundary has been achieved successfully."
   ]
  }
 ],
 "metadata": {
  "kernelspec": {
   "display_name": ".venv",
   "language": "python",
   "name": "python3"
  },
  "language_info": {
   "codemirror_mode": {
    "name": "ipython",
    "version": 3
   },
   "file_extension": ".py",
   "mimetype": "text/x-python",
   "name": "python",
   "nbconvert_exporter": "python",
   "pygments_lexer": "ipython3",
   "version": "3.12.4"
  }
 },
 "nbformat": 4,
 "nbformat_minor": 2
}
